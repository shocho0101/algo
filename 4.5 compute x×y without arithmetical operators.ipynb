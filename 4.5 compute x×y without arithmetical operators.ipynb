{
 "cells": [
  {
   "cell_type": "code",
   "execution_count": 13,
   "metadata": {
    "collapsed": true
   },
   "outputs": [
    {
     "data": {
      "text/plain": "62"
     },
     "execution_count": 13,
     "metadata": {},
     "output_type": "execute_result"
    }
   ],
   "source": [
    "def add(x, y):\n",
    "    result = x\n",
    "    add_num = y\n",
    "    while add_num:\n",
    "        previous_result = result\n",
    "        result ^= add_num\n",
    "        add_num = (add_num & previous_result) << 1\n",
    "    return result\n",
    "\n",
    "def multiply(x, y):\n",
    "    result = 0\n",
    "    while y:\n",
    "        if y & 1:\n",
    "            result = add(result, x)\n",
    "        x <<= 1\n",
    "        y >>= 1\n",
    "    return result\n",
    "\n",
    "multiply(6, 5)\n",
    "add(31,31)\n",
    "\n",
    "\n",
    "\n"
   ]
  }
 ],
 "metadata": {
  "kernelspec": {
   "display_name": "Python 3",
   "language": "python",
   "name": "python3"
  },
  "language_info": {
   "codemirror_mode": {
    "name": "ipython",
    "version": 2
   },
   "file_extension": ".py",
   "mimetype": "text/x-python",
   "name": "python",
   "nbconvert_exporter": "python",
   "pygments_lexer": "ipython2",
   "version": "2.7.6"
  }
 },
 "nbformat": 4,
 "nbformat_minor": 0
}