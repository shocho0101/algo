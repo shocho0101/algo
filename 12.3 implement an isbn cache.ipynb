{
 "cells": [
  {
   "cell_type": "code",
   "execution_count": null,
   "metadata": {
    "collapsed": true
   },
   "outputs": [],
   "source": [
    "from collections import OrderedDict\n",
    "\n",
    "class LRUCache:\n",
    "    def __init__(self, capacity):\n",
    "        self.capacity = capacity\n",
    "        self.price_table = OrderedDict()\n",
    "\n",
    "    def lookup(self, isbn):\n",
    "        self.price_table.move_to_end(isbn)\n",
    "        return self.price_table[isbn]\n",
    "\n",
    "    def insert(self, isbn, price):\n",
    "        if isbn in self.price_table:\n",
    "            self.price_table.move_to_end(isbn)\n",
    "        else:\n",
    "            self.price_table[isbn] = price\n",
    "            if len(self.price_table) > self.capacity:\n",
    "                self.price_table.popitem(last=False)\n",
    "\n",
    "    def delete(self, isbn):\n",
    "        return self.price_table.pop(isbn)\n"
   ]
  }
 ],
 "metadata": {
  "kernelspec": {
   "display_name": "Python 3",
   "language": "python",
   "name": "python3"
  },
  "language_info": {
   "codemirror_mode": {
    "name": "ipython",
    "version": 2
   },
   "file_extension": ".py",
   "mimetype": "text/x-python",
   "name": "python",
   "nbconvert_exporter": "python",
   "pygments_lexer": "ipython2",
   "version": "2.7.6"
  }
 },
 "nbformat": 4,
 "nbformat_minor": 0
}