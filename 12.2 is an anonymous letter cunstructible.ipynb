{
 "cells": [
  {
   "cell_type": "code",
   "execution_count": 7,
   "metadata": {
    "collapsed": true
   },
   "outputs": [
    {
     "data": {
      "text/plain": "True"
     },
     "execution_count": 7,
     "metadata": {},
     "output_type": "execute_result"
    }
   ],
   "source": [
    "import collections\n",
    "\n",
    "def is_letter_constructible_from_magazine(letter_text, magazine_text):\n",
    "    letter_counter = collections.Counter(letter_text)\n",
    "\n",
    "    for char in magazine_text:\n",
    "        letter_counter -= collections.Counter(char)\n",
    "        if not letter_counter:\n",
    "            return True\n",
    "\n",
    "    return False\n",
    "\n",
    "is_letter_constructible_from_magazine(\"abab\", \"abab\")"
   ]
  }
 ],
 "metadata": {
  "kernelspec": {
   "display_name": "Python 3",
   "language": "python",
   "name": "python3"
  },
  "language_info": {
   "codemirror_mode": {
    "name": "ipython",
    "version": 2
   },
   "file_extension": ".py",
   "mimetype": "text/x-python",
   "name": "python",
   "nbconvert_exporter": "python",
   "pygments_lexer": "ipython2",
   "version": "2.7.6"
  }
 },
 "nbformat": 4,
 "nbformat_minor": 0
}