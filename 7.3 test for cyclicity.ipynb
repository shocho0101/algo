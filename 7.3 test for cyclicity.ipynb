{
 "cells": [
  {
   "cell_type": "code",
   "execution_count": 2,
   "metadata": {
    "collapsed": true
   },
   "outputs": [
    {
     "name": "stdout",
     "output_type": "stream",
     "text": [
      "3\n"
     ]
    }
   ],
   "source": [
    "from linkedlist import ListNode\n",
    "\n",
    "def has_cycle(head: ListNode):\n",
    "    fast = slow = head\n",
    "\n",
    "    while fast and fast.next and fast.next.next:\n",
    "        fast, slow = fast.next.next, slow.next\n",
    "        if fast is slow:\n",
    "            start, end = slow, slow.next\n",
    "            cycle_count = 1\n",
    "            while start is not end:\n",
    "                cycle_count += 1\n",
    "                end = end.next\n",
    "\n",
    "            front = back = head\n",
    "\n",
    "            for _ in range(cycle_count):\n",
    "                front = front.next\n",
    "\n",
    "            while front is not back:\n",
    "                front, back = front.next, back.next\n",
    "\n",
    "            return front\n",
    "    return None\n",
    "\n",
    "a = ListNode(1)\n",
    "b = ListNode(2)\n",
    "c = ListNode(3)\n",
    "d = ListNode(4)\n",
    "e = ListNode(5)\n",
    "f = ListNode(6)\n",
    "\n",
    "a.next = b\n",
    "b.next = c\n",
    "c.next = d\n",
    "d.next = e\n",
    "e.next = f\n",
    "f.next = c\n",
    "\n",
    "print(has_cycle(a).data)"
   ]
  }
 ],
 "metadata": {
  "kernelspec": {
   "display_name": "Python 3",
   "language": "python",
   "name": "python3"
  },
  "language_info": {
   "codemirror_mode": {
    "name": "ipython",
    "version": 2
   },
   "file_extension": ".py",
   "mimetype": "text/x-python",
   "name": "python",
   "nbconvert_exporter": "python",
   "pygments_lexer": "ipython2",
   "version": "2.7.6"
  }
 },
 "nbformat": 4,
 "nbformat_minor": 0
}