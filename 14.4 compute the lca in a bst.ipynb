{
 "cells": [
  {
   "cell_type": "code",
   "execution_count": null,
   "metadata": {
    "collapsed": true
   },
   "outputs": [],
   "source": [
    "def lca_bst(node_1, node_2, tree):\n",
    "    while True:\n",
    "        if node_1.val < tree.val and node_2.val < tree.val:\n",
    "            tree = tree.left\n",
    "        elif node_1.val > tree.val and node_2.val > tree.val:\n",
    "            tree = tree.right\n",
    "        else:\n",
    "            return treee"
   ]
  }
 ],
 "metadata": {
  "kernelspec": {
   "display_name": "Python 3",
   "language": "python",
   "name": "python3"
  },
  "language_info": {
   "codemirror_mode": {
    "name": "ipython",
    "version": 2
   },
   "file_extension": ".py",
   "mimetype": "text/x-python",
   "name": "python",
   "nbconvert_exporter": "python",
   "pygments_lexer": "ipython2",
   "version": "2.7.6"
  }
 },
 "nbformat": 4,
 "nbformat_minor": 0
}