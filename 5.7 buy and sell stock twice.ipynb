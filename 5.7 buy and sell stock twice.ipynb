{
 "cells": [
  {
   "cell_type": "code",
   "execution_count": null,
   "metadata": {
    "collapsed": true
   },
   "outputs": [],
   "source": [
    "def buy_and_sell_stock_twice(prices):\n",
    "    buy_price, sell_price = 0, 0\n",
    "    buy_price_candidate = prices[0]\n",
    "    first_buy_sell_profits = []\n",
    "    for i, price in enumerate(prices):\n",
    "        buy_price_candidate = min(buy_price_candidate, price)\n",
    "        if price - buy_price_candidate > sell_price - buy_price:\n",
    "            buy_price, sell_price = buy_price_candidate, price\n",
    "        first_buy_sell_profits.append(sell_price - buy_price)\n",
    "\n",
    "    buy_price, sell_price = 0, 0\n",
    "    sell_price_candidate = prices[-1]\n",
    "    for i, price in reversed(list(enumerate(prices))):\n",
    "        sell_price_candidate = max"
   ]
  }
 ],
 "metadata": {
  "kernelspec": {
   "display_name": "Python 3",
   "language": "python",
   "name": "python3"
  },
  "language_info": {
   "codemirror_mode": {
    "name": "ipython",
    "version": 2
   },
   "file_extension": ".py",
   "mimetype": "text/x-python",
   "name": "python",
   "nbconvert_exporter": "python",
   "pygments_lexer": "ipython2",
   "version": "2.7.6"
  }
 },
 "nbformat": 4,
 "nbformat_minor": 0
}