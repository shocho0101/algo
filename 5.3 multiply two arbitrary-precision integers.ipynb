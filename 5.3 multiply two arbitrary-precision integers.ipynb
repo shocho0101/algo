{
 "cells": [
  {
   "cell_type": "code",
   "execution_count": 7,
   "metadata": {
    "collapsed": true,
    "pycharm": {
     "name": "#%%\n"
    }
   },
   "outputs": [
    {
     "data": {
      "text/plain": "[9, 8, 0, 1]"
     },
     "execution_count": 7,
     "metadata": {},
     "output_type": "execute_result"
    }
   ],
   "source": [
    "def multiply(num1, num2):\n",
    "    sign = 1 if num1[0] * num2[0] > 0 else -1\n",
    "    num1[0], num2[0] = abs(num1[0]), abs(num2[0])\n",
    "\n",
    "    answer = [0] * (len(num1) * len(num2))\n",
    "\n",
    "    for index_num2 in reversed(range(len(num2))):\n",
    "        for index_num1 in reversed(range(len(num1))):\n",
    "            answer[index_num1 + index_num2 + 1] += num1[index_num1] * num2[index_num2]\n",
    "            answer[index_num1 + index_num2] += answer[index_num1 + index_num2 + 1] // 10\n",
    "            answer[index_num1 + index_num2 + 1] %= 10\n",
    "\n",
    "    answer = answer[next((i for i, x in enumerate(answer) if x != 0), len(answer)):] or [0]\n",
    "    answer[0] *= sign\n",
    "    return  answer\n",
    "\n",
    "multiply([-9, 9], [-9, 9])"
   ]
  }
 ],
 "metadata": {
  "kernelspec": {
   "display_name": "Python 3",
   "language": "python",
   "name": "python3"
  },
  "language_info": {
   "codemirror_mode": {
    "name": "ipython",
    "version": 2
   },
   "file_extension": ".py",
   "mimetype": "text/x-python",
   "name": "python",
   "nbconvert_exporter": "python",
   "pygments_lexer": "ipython2",
   "version": "2.7.6"
  }
 },
 "nbformat": 4,
 "nbformat_minor": 0
}