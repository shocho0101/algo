{
 "cells": [
  {
   "cell_type": "code",
   "execution_count": 5,
   "metadata": {
    "collapsed": true
   },
   "outputs": [
    {
     "data": {
      "text/plain": "[3, 5, 7, 11, 13, 17, 19, None]"
     },
     "execution_count": 5,
     "metadata": {},
     "output_type": "execute_result"
    }
   ],
   "source": [
    "def merge(list_1, list_2):\n",
    "    def count_element(target_list):\n",
    "        count = 0\n",
    "        while count < len(target_list) and target_list[count]:\n",
    "            count += 1\n",
    "        return count\n",
    "\n",
    "    list_1_last = count_element(list_1) - 1\n",
    "    list_2_last = count_element(list_2) - 1\n",
    "    merge_last = list_1_last + list_2_last + 1\n",
    "\n",
    "    while merge_last >= 0:\n",
    "        if (list_1_last >= 0 and list_1[list_1_last] > list_2[list_2_last]) \\\n",
    "                or list_2_last < 0:\n",
    "            list_1[merge_last] = list_1[list_1_last]\n",
    "            list_1_last -= 1\n",
    "        else:\n",
    "            list_1[merge_last] = list_2[list_2_last]\n",
    "            list_2_last -= 1\n",
    "        merge_last -= 1\n",
    "\n",
    "    return list_1\n",
    "\n",
    "merge([5, 13, 17, None, None, None, None, None], [3, 7, 11, 19])"
   ]
  },
  {
   "cell_type": "code",
   "execution_count": 8,
   "outputs": [
    {
     "data": {
      "text/plain": "[3, 5, 7, 11, 13, 17, 19, None]"
     },
     "execution_count": 8,
     "metadata": {},
     "output_type": "execute_result"
    }
   ],
   "source": [
    "def merge_2(list_1, list_2):\n",
    "    def count_element(target_list):\n",
    "        count = 0\n",
    "        while count < len(target_list) and target_list[count]:\n",
    "            count += 1\n",
    "        return count\n",
    "\n",
    "    list_1_last = count_element(list_1) - 1\n",
    "    list_2_last = count_element(list_2) - 1\n",
    "    merge_last = list_1_last + list_2_last + 1\n",
    "\n",
    "    while list_1_last >= 0 and list_2_last >= 0:\n",
    "        if list_1[list_1_last] > list_2[list_2_last]:\n",
    "            list_1[merge_last] = list_1[list_1_last]\n",
    "            merge_last -= 1\n",
    "            list_1_last -= 1\n",
    "        else:\n",
    "            list_1[merge_last] = list_2[list_2_last]\n",
    "            merge_last -= 1\n",
    "            list_2_last -= 1\n",
    "\n",
    "    while list_2_last >= 0:\n",
    "        list_1[merge_last] = list_2[list_2_last]\n",
    "        merge_last -= 1\n",
    "        list_2_last -= 1\n",
    "\n",
    "    return list_1\n",
    "\n",
    "merge_2([5, 13, 17, None, None, None, None, None], [3, 7, 11, 19])"
   ],
   "metadata": {
    "collapsed": false,
    "pycharm": {
     "name": "#%%\n"
    }
   }
  }
 ],
 "metadata": {
  "kernelspec": {
   "display_name": "Python 3",
   "language": "python",
   "name": "python3"
  },
  "language_info": {
   "codemirror_mode": {
    "name": "ipython",
    "version": 2
   },
   "file_extension": ".py",
   "mimetype": "text/x-python",
   "name": "python",
   "nbconvert_exporter": "python",
   "pygments_lexer": "ipython2",
   "version": "2.7.6"
  }
 },
 "nbformat": 4,
 "nbformat_minor": 0
}