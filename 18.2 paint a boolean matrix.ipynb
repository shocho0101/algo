{
 "cells": [
  {
   "cell_type": "code",
   "execution_count": null,
   "metadata": {
    "collapsed": true
   },
   "outputs": [],
   "source": [
    "from collections import namedtuple, deque\n",
    "\n",
    "def flip_color(x, y, matrix):\n",
    "    Coordinate = namedtuple(\"Coordinate\", (\"x\", \"y\"))\n",
    "    color = matrix[x][y]\n",
    "    queue = deque([Coordinate(x, y)])\n",
    "    while queue:\n",
    "        coordinate = queue.popleft()\n",
    "        if (0 <= coordinate.x < len(matrix)\n",
    "                and 0 <= coordinate.y < len(matrix)\n",
    "                and matrix[coordinate.x][coordinate.y] == color):\n",
    "            matrix[coordinate.x][coordinate.y] = 1 - color\n",
    "            queue.append(coordinate.x - 1, coordinate.y)\n",
    "            queue.append(coordinate.x + 1, coordinate.y)\n",
    "            queue.append(coordinate.x - 1, coordinate.y - 1)\n",
    "            queue.append(coordinate.x - 1, coordinate.y + 1)\n"
   ]
  }
 ],
 "metadata": {
  "kernelspec": {
   "display_name": "Python 3",
   "language": "python",
   "name": "python3"
  },
  "language_info": {
   "codemirror_mode": {
    "name": "ipython",
    "version": 2
   },
   "file_extension": ".py",
   "mimetype": "text/x-python",
   "name": "python",
   "nbconvert_exporter": "python",
   "pygments_lexer": "ipython2",
   "version": "2.7.6"
  }
 },
 "nbformat": 4,
 "nbformat_minor": 0
}