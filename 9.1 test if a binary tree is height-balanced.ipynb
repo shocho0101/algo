{
 "cells": [
  {
   "cell_type": "code",
   "execution_count": null,
   "metadata": {
    "collapsed": true
   },
   "outputs": [],
   "source": [
    "from binarytree import BinaryTreeNode\n",
    "\n",
    "\n",
    "def tree_traversal(root: BinaryTreeNode):\n",
    "    if root:\n",
    "        print(\"Preorder\", root.data)\n",
    "\n",
    "        tree_traversal(root.left)\n",
    "\n",
    "        print(\"Inorder\", root.data)\n",
    "\n",
    "        tree_traversal(root.right)\n",
    "\n",
    "        print(\"Postorder\", root.data)\n",
    "\n"
   ]
  },
  {
   "cell_type": "code",
   "execution_count": null,
   "outputs": [],
   "source": [
    "from typing import NamedTuple\n",
    "\n",
    "def is_balanced_binary_tree(tree: BinaryTreeNode) -> bool:\n",
    "    class Status(NamedTuple):\n",
    "        height: int\n",
    "        is_balanced: bool\n",
    "\n",
    "\n",
    "    def is_balanced_binary_tree_height(tree: BinaryTreeNode) -> Status:\n",
    "        if not tree:\n",
    "            return -1, True\n",
    "\n",
    "        left_status = is_balanced_binary_tree_height(tree.left)\n",
    "        right_status = is_balanced_binary_tree_height(tree.right)\n",
    "        return Status(left_status.is_balanced and right_status.is_balanced and abs(left_status.height - right_status.height) <= 1,\n",
    "                      max(left_status.height, right_status.height) + 1)\n",
    "\n",
    "    return is_balanced_binary_tree_height(tree).is_balanced"
   ],
   "metadata": {
    "collapsed": false,
    "pycharm": {
     "name": "#%%\n"
    }
   }
  }
 ],
 "metadata": {
  "kernelspec": {
   "display_name": "Python 3",
   "language": "python",
   "name": "python3"
  },
  "language_info": {
   "codemirror_mode": {
    "name": "ipython",
    "version": 2
   },
   "file_extension": ".py",
   "mimetype": "text/x-python",
   "name": "python",
   "nbconvert_exporter": "python",
   "pygments_lexer": "ipython2",
   "version": "2.7.6"
  }
 },
 "nbformat": 4,
 "nbformat_minor": 0
}