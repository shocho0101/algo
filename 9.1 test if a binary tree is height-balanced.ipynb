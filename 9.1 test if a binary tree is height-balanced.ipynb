{
 "cells": [
  {
   "cell_type": "code",
   "execution_count": null,
   "metadata": {
    "collapsed": true
   },
   "outputs": [],
   "source": [
    "from binarytree import BinaryTreeNode\n",
    "\n",
    "\n",
    "def tree_traversal(root: BinaryTreeNode):\n",
    "    if root:\n",
    "        print(\"Preorder\", root.data)\n",
    "\n",
    "        tree_traversal(root.left)\n",
    "\n",
    "        print(\"Inorder\", root.data)\n",
    "\n",
    "        tree_traversal(root.right)\n",
    "\n",
    "        print(\"Postorder\", root.data)\n",
    "\n"
   ]
  },
  {
   "cell_type": "code",
   "execution_count": null,
   "outputs": [],
   "source": [
    "def is_balanced_binary_tree(tree: BinaryTreeNode) -> bool:\n",
    "    def check_balanced(tree: BinaryTreeNode) -> (bool, int):\n",
    "        if not tree:\n",
    "            return True, 0\n",
    "        left_is_balanced, left_depth = check_balanced(tree.left)\n",
    "        right_is_balanced, right_depth = check_balanced(tree.right)\n",
    "\n",
    "        return (left_is_balanced and right_is_balanced and abs(left_depth - right_depth) <= 1,\n",
    "                max(left_depth, right_depth) + 1)\n",
    "\n",
    "    is_balanced, _ = check_balanced(tree)\n",
    "    return is_balanced\n"
   ],
   "metadata": {
    "collapsed": false,
    "pycharm": {
     "name": "#%%\n"
    }
   }
  }
 ],
 "metadata": {
  "kernelspec": {
   "display_name": "Python 3",
   "language": "python",
   "name": "python3"
  },
  "language_info": {
   "codemirror_mode": {
    "name": "ipython",
    "version": 2
   },
   "file_extension": ".py",
   "mimetype": "text/x-python",
   "name": "python",
   "nbconvert_exporter": "python",
   "pygments_lexer": "ipython2",
   "version": "2.7.6"
  }
 },
 "nbformat": 4,
 "nbformat_minor": 0
}