{
 "cells": [
  {
   "cell_type": "code",
   "execution_count": 3,
   "metadata": {
    "collapsed": true
   },
   "outputs": [
    {
     "data": {
      "text/plain": "4"
     },
     "execution_count": 3,
     "metadata": {},
     "output_type": "execute_result"
    }
   ],
   "source": [
    "def find_k_largest(k, number_list):\n",
    "    bottom, upper = 0, len(number_list) - 1\n",
    "\n",
    "    def move_list():\n",
    "        small, equal, large = bottom, bottom, upper + 1\n",
    "        pivot = number_list[small]\n",
    "        while equal < large:\n",
    "            if number_list[equal] < pivot:\n",
    "                number_list[small], number_list[equal] = number_list[equal], number_list[small]\n",
    "                small += 1\n",
    "                equal += 1\n",
    "            elif number_list[equal] == pivot:\n",
    "                equal += 1\n",
    "            else:\n",
    "                large -= 1\n",
    "                number_list[equal], number_list[large] = number_list[large], number_list[equal]\n",
    "        return equal - 1\n",
    "\n",
    "    while bottom <= upper:\n",
    "        equal = move_list()\n",
    "        if k - 1 < equal:\n",
    "            upper = equal - 1\n",
    "        elif k - 1 == equal:\n",
    "            break\n",
    "        else:\n",
    "            bottom = equal + 1\n",
    "\n",
    "    return number_list[k - 1]\n",
    "\n",
    "find_k_largest(4, [5,1,6,8,2,4,9,3])"
   ]
  }
 ],
 "metadata": {
  "kernelspec": {
   "display_name": "Python 3",
   "language": "python",
   "name": "python3"
  },
  "language_info": {
   "codemirror_mode": {
    "name": "ipython",
    "version": 2
   },
   "file_extension": ".py",
   "mimetype": "text/x-python",
   "name": "python",
   "nbconvert_exporter": "python",
   "pygments_lexer": "ipython2",
   "version": "2.7.6"
  }
 },
 "nbformat": 4,
 "nbformat_minor": 0
}