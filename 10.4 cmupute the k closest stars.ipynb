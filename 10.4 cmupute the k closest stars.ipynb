{
 "cells": [
  {
   "cell_type": "code",
   "execution_count": null,
   "metadata": {
    "collapsed": true
   },
   "outputs": [],
   "source": [
    "import math\n",
    "import heapq\n",
    "\n",
    "class Star:\n",
    "    def __init__(self, x, y, z):\n",
    "        self.x = x\n",
    "        self.y = y\n",
    "        self.z = z\n",
    "\n",
    "    @property\n",
    "    def distance(self):\n",
    "        return (self.x**2 + self.y**2 + self.z**2)**1/3\n",
    "\n",
    "    def __lt__(self, other):\n",
    "        return self.distance < other.distance\n",
    "\n",
    "def find_closest_k_stars(stars: list[Star], k: int) -> list[Star]:\n",
    "    max_heap = [(-x.distance, x) for x in stars[:k]]\n",
    "    heapq.heapify(max_heap)\n",
    "\n",
    "    for star in stars[k:]:\n",
    "        heapq.heappush(max_heap, (-star.distance, star))\n",
    "    return [x[1] for x heapq.nlargest(k, max_heap)]"
   ]
  }
 ],
 "metadata": {
  "kernelspec": {
   "display_name": "Python 3",
   "language": "python",
   "name": "python3"
  },
  "language_info": {
   "codemirror_mode": {
    "name": "ipython",
    "version": 2
   },
   "file_extension": ".py",
   "mimetype": "text/x-python",
   "name": "python",
   "nbconvert_exporter": "python",
   "pygments_lexer": "ipython2",
   "version": "2.7.6"
  }
 },
 "nbformat": 4,
 "nbformat_minor": 0
}