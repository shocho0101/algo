{
 "cells": [
  {
   "cell_type": "code",
   "execution_count": null,
   "metadata": {
    "collapsed": true
   },
   "outputs": [],
   "source": [
    "import math\n",
    "import heapq\n",
    "\n",
    "class Star:\n",
    "    def __init__(self, x, y, z):\n",
    "        self.x = x\n",
    "        self.y = y\n",
    "        self.z = z\n",
    "\n",
    "    @property\n",
    "    def distance(self):\n",
    "        return math.sqrt(x**2 + y**2 + z**2)\n",
    "\n",
    "    def __lt__(self, other):\n",
    "        return self.distance < other.distance\n",
    "\n",
    "def find_k_closet_star(star_list, k):\n",
    "    heap = [(-star.distance, star) for star in star_list[:k]]\n",
    "    heapq.heapify(heap)\n",
    "\n",
    "    for star in star_list[k:]:\n",
    "        heapq.heappushpop(heap, (-star.distance, star))\n",
    "\n",
    "    return heap[0][1]"
   ]
  }
 ],
 "metadata": {
  "kernelspec": {
   "display_name": "Python 3",
   "language": "python",
   "name": "python3"
  },
  "language_info": {
   "codemirror_mode": {
    "name": "ipython",
    "version": 2
   },
   "file_extension": ".py",
   "mimetype": "text/x-python",
   "name": "python",
   "nbconvert_exporter": "python",
   "pygments_lexer": "ipython2",
   "version": "2.7.6"
  }
 },
 "nbformat": 4,
 "nbformat_minor": 0
}