{
 "cells": [
  {
   "cell_type": "code",
   "execution_count": null,
   "metadata": {
    "collapsed": true
   },
   "outputs": [],
   "source": [
    "from binarytree import BinaryTreeNode\n",
    "\n",
    "def lca(tree_1: BinaryTreeNode, tree_2: BinaryTreeNode) -> BinaryTreeNode:\n",
    "    def depth(tree: BinaryTreeNode) -> int:\n",
    "        result = 0\n",
    "        while tree.parent:\n",
    "            result += 1\n",
    "            tree = tree.parent\n",
    "        return result\n",
    "\n",
    "    depth_1 = depth(tree_1)\n",
    "    depth_2 = depth(tree_2)\n",
    "\n",
    "    if depth_1 < depth_2:\n",
    "        tree_1, tree_2 = tree_2, tree_1\n",
    "\n",
    "    for _ in range(abs(depth_2 - depth_1)):\n",
    "        tree_1 = tree_1.parent\n",
    "\n",
    "    while tree_1 is not tree_2:\n",
    "        tree_1 = tree_1.parent\n",
    "        tree_2 = tree_2.parent\n",
    "\n",
    "    return tree_1"
   ]
  }
 ],
 "metadata": {
  "kernelspec": {
   "display_name": "Python 3",
   "language": "python",
   "name": "python3"
  },
  "language_info": {
   "codemirror_mode": {
    "name": "ipython",
    "version": 2
   },
   "file_extension": ".py",
   "mimetype": "text/x-python",
   "name": "python",
   "nbconvert_exporter": "python",
   "pygments_lexer": "ipython2",
   "version": "2.7.6"
  }
 },
 "nbformat": 4,
 "nbformat_minor": 0
}