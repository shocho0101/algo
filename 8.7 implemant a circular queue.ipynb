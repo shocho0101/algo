{
 "cells": [
  {
   "cell_type": "code",
   "execution_count": 8,
   "metadata": {
    "collapsed": true
   },
   "outputs": [],
   "source": [
    "class Queue:\n",
    "    def __init__(self, size):\n",
    "        self._queue = [None] * size\n",
    "        self._start = 0\n",
    "        self._end = 0\n",
    "        self._len = 0\n",
    "\n",
    "    def enqueue(self, item):\n",
    "        if self._len == len(self._queue):\n",
    "            previous_queue_len = len(self._queue)\n",
    "            self._queue += [None] * previous_queue_len\n",
    "            if self._len > 0 and self._end <= self._start:\n",
    "                for position in range(self._end):\n",
    "                    self._queue[previous_queue_len + position] = self._queue[position]\n",
    "                self._end = previous_queue_len + self._end\n",
    "\n",
    "        self._queue[self._end] = item\n",
    "        self._end = (self._end + 1) % len(self._queue)\n",
    "        self._len += 1\n",
    "\n",
    "    def dequeue(self):\n",
    "        if not self._len == 0:\n",
    "            item = self._queue[self._start]\n",
    "            if self._start == len(self._queue) - 1:\n",
    "                self._start = 0\n",
    "            else:\n",
    "                self._start += 1\n",
    "            self._len -= 1\n",
    "            return item\n",
    "\n",
    "    def __len__(self):\n",
    "        return self._len\n",
    "\n",
    "    def print(self):\n",
    "        print(self._queue)"
   ]
  },
  {
   "cell_type": "code",
   "execution_count": 9,
   "outputs": [
    {
     "name": "stdout",
     "output_type": "stream",
     "text": [
      "[1, 2, 3]\n"
     ]
    }
   ],
   "source": [
    "queue = Queue(3)\n",
    "\n",
    "queue.enqueue(1)\n",
    "queue.enqueue(2)\n",
    "queue.enqueue(3)\n",
    "\n",
    "queue.print()"
   ],
   "metadata": {
    "collapsed": false,
    "pycharm": {
     "name": "#%%\n"
    }
   }
  },
  {
   "cell_type": "code",
   "execution_count": 10,
   "outputs": [],
   "source": [
    "queue.dequeue()\n",
    "queue.enqueue(4)"
   ],
   "metadata": {
    "collapsed": false,
    "pycharm": {
     "name": "#%%\n"
    }
   }
  },
  {
   "cell_type": "code",
   "execution_count": 11,
   "outputs": [
    {
     "name": "stdout",
     "output_type": "stream",
     "text": [
      "[4, 2, 3]\n"
     ]
    }
   ],
   "source": [
    "queue.print()"
   ],
   "metadata": {
    "collapsed": false,
    "pycharm": {
     "name": "#%%\n"
    }
   }
  },
  {
   "cell_type": "code",
   "execution_count": 12,
   "outputs": [
    {
     "name": "stdout",
     "output_type": "stream",
     "text": [
      "[4, 2, 3, 4, 5, None]\n"
     ]
    }
   ],
   "source": [
    "queue.enqueue(5)\n",
    "queue.print()"
   ],
   "metadata": {
    "collapsed": false,
    "pycharm": {
     "name": "#%%\n"
    }
   }
  }
 ],
 "metadata": {
  "kernelspec": {
   "display_name": "Python 3",
   "language": "python",
   "name": "python3"
  },
  "language_info": {
   "codemirror_mode": {
    "name": "ipython",
    "version": 2
   },
   "file_extension": ".py",
   "mimetype": "text/x-python",
   "name": "python",
   "nbconvert_exporter": "python",
   "pygments_lexer": "ipython2",
   "version": "2.7.6"
  }
 },
 "nbformat": 4,
 "nbformat_minor": 0
}