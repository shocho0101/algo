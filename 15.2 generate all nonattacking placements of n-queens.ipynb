{
 "cells": [
  {
   "cell_type": "code",
   "execution_count": 3,
   "metadata": {
    "collapsed": true
   },
   "outputs": [
    {
     "data": {
      "text/plain": "[[1, 3, 0, 2], [2, 0, 3, 1]]"
     },
     "execution_count": 3,
     "metadata": {},
     "output_type": "execute_result"
    }
   ],
   "source": [
    "def n_queens(n):\n",
    "    result = []\n",
    "    placement = [0] * 4\n",
    "\n",
    "    def solve_n_queens(row):\n",
    "        if row == n:\n",
    "            result.append(placement[:])\n",
    "        else:\n",
    "            for potential_place in range(n):\n",
    "                if all(\n",
    "                    abs(potential_place - already_place) not in (0, row - already_row)\n",
    "                    for already_row, already_place in enumerate(placement[:row])\n",
    "                ):\n",
    "                    placement[row] = potential_place\n",
    "                    solve_n_queens(row + 1)\n",
    "    solve_n_queens(0)\n",
    "    return result\n",
    "\n",
    "n_queens(4)"
   ]
  }
 ],
 "metadata": {
  "kernelspec": {
   "display_name": "Python 3",
   "language": "python",
   "name": "python3"
  },
  "language_info": {
   "codemirror_mode": {
    "name": "ipython",
    "version": 2
   },
   "file_extension": ".py",
   "mimetype": "text/x-python",
   "name": "python",
   "nbconvert_exporter": "python",
   "pygments_lexer": "ipython2",
   "version": "2.7.6"
  }
 },
 "nbformat": 4,
 "nbformat_minor": 0
}