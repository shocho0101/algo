{
 "cells": [
  {
   "cell_type": "code",
   "execution_count": 7,
   "metadata": {
    "collapsed": true
   },
   "outputs": [
    {
     "data": {
      "text/plain": "8"
     },
     "execution_count": 7,
     "metadata": {},
     "output_type": "execute_result"
    }
   ],
   "source": [
    "from functools import lru_cache\n",
    "\n",
    "@lru_cache(maxsize=4096)\n",
    "def levenshtein_distance(str_1, str_2):\n",
    "    if str_1 == str_2:\n",
    "        return 0\n",
    "\n",
    "    if not (str_1 and str_2):\n",
    "        return len(str_1) or len(str_2)\n",
    "\n",
    "    if str_1[0] == str_2[0]:\n",
    "        return levenshtein_distance(str_1[1:], str_2[1:])\n",
    "\n",
    "    return min(\n",
    "        levenshtein_distance(str_1, str_2[1:]) + 1,\n",
    "        levenshtein_distance(str_1[1:], str_2) + 1,\n",
    "        levenshtein_distance(str_1[1:], str_2[1:]) + 1\n",
    "    )\n",
    "\n",
    "levenshtein_distance(\"carthorse\", \"orchestra\")"
   ]
  }
 ],
 "metadata": {
  "kernelspec": {
   "display_name": "Python 3",
   "language": "python",
   "name": "python3"
  },
  "language_info": {
   "codemirror_mode": {
    "name": "ipython",
    "version": 2
   },
   "file_extension": ".py",
   "mimetype": "text/x-python",
   "name": "python",
   "nbconvert_exporter": "python",
   "pygments_lexer": "ipython2",
   "version": "2.7.6"
  }
 },
 "nbformat": 4,
 "nbformat_minor": 0
}