{
 "cells": [
  {
   "cell_type": "code",
   "execution_count": null,
   "metadata": {
    "collapsed": true
   },
   "outputs": [],
   "source": [
    "from collections import namedtuple\n",
    "\n",
    "Coordinate = namedtuple('Coordinate', ('x', 'y'))\n",
    "\n",
    "def search_maze(maze, start, end):\n",
    "    path = []\n",
    "    def search(current):\n",
    "        nonlocal path\n",
    "        if not (0 <= current.x < len(maze)\n",
    "                and 0 <= current.y < len(maze[0])\n",
    "                and maze[current.x][current.y]):\n",
    "            return False\n",
    "\n",
    "        path.append(current)\n",
    "        if current == end:\n",
    "            return True\n",
    "\n",
    "        maze[current.x][current.y] = 1\n",
    "\n",
    "        if any(\n",
    "            map(search,\n",
    "                (Coordinate(current.x - 1, y),\n",
    "                 Coordinate(current.x + 1, y),\n",
    "                 Coordinate(current.x, y - 1),\n",
    "                 Coordinate(current.x, y + 1)\n",
    "                 )\n",
    "                )\n",
    "        ):\n",
    "            return True\n",
    "        def path[-1]\n",
    "        return False\n",
    "\n",
    "    if not search(start):\n",
    "        return False\n",
    "    return True\n",
    "\n"
   ]
  }
 ],
 "metadata": {
  "kernelspec": {
   "display_name": "Python 3",
   "language": "python",
   "name": "python3"
  },
  "language_info": {
   "codemirror_mode": {
    "name": "ipython",
    "version": 2
   },
   "file_extension": ".py",
   "mimetype": "text/x-python",
   "name": "python",
   "nbconvert_exporter": "python",
   "pygments_lexer": "ipython2",
   "version": "2.7.6"
  }
 },
 "nbformat": 4,
 "nbformat_minor": 0
}