{
 "cells": [
  {
   "cell_type": "code",
   "execution_count": null,
   "metadata": {
    "collapsed": true
   },
   "outputs": [],
   "source": [
    "from collections import namedtuple\n",
    "\n",
    "Item = namedtuple(\"Item\", (\"weight\", \"value\"))\n",
    "\n",
    "\n",
    "def k_napsack(items, capacity):\n",
    "    table = [0] * (capacity+1)\n",
    "\n",
    "    for item in items:\n",
    "        for weight in reversed(range(item.weight, capacity+1)):\n",
    "            table[weight] = max(table[weight], item.value + table[weight - item.weight])\n",
    "    return table[-1]\n"
   ]
  }
 ],
 "metadata": {
  "kernelspec": {
   "display_name": "Python 3",
   "language": "python",
   "name": "python3"
  },
  "language_info": {
   "codemirror_mode": {
    "name": "ipython",
    "version": 2
   },
   "file_extension": ".py",
   "mimetype": "text/x-python",
   "name": "python",
   "nbconvert_exporter": "python",
   "pygments_lexer": "ipython2",
   "version": "2.7.6"
  }
 },
 "nbformat": 4,
 "nbformat_minor": 0
}