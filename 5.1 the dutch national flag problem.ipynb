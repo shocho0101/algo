{
 "cells": [
  {
   "cell_type": "code",
   "execution_count": 3,
   "metadata": {
    "collapsed": true,
    "pycharm": {
     "name": "#%%\n"
    }
   },
   "outputs": [
    {
     "data": {
      "text/plain": "[0, 2, 1, 2, 3, 0, 2, 2, 4, 4, 4, 4, 6, 7, 6, 5, 5]"
     },
     "execution_count": 3,
     "metadata": {},
     "output_type": "execute_result"
    }
   ],
   "source": [
    "def dutch_flag_partition(pivot_index: int, array: [int]) -> [int]:\n",
    "    pivot = array[pivot_index]\n",
    "    small, equal, large = 0, 0, len(array)\n",
    "    while equal < large:\n",
    "        if array[equal] < pivot:\n",
    "            array[small], array[equal] = array[equal], array[small]\n",
    "            small += 1\n",
    "            equal += 1\n",
    "        elif array[equal] == pivot:\n",
    "            equal += 1\n",
    "        else:\n",
    "            large -= 1\n",
    "            array[equal], array[large] = array[large], array[equal]\n",
    "    return array"
   ]
  }
 ],
 "metadata": {
  "kernelspec": {
   "display_name": "Python 3",
   "language": "python",
   "name": "python3"
  },
  "language_info": {
   "codemirror_mode": {
    "name": "ipython",
    "version": 2
   },
   "file_extension": ".py",
   "mimetype": "text/x-python",
   "name": "python",
   "nbconvert_exporter": "python",
   "pygments_lexer": "ipython2",
   "version": "2.7.6"
  }
 },
 "nbformat": 4,
 "nbformat_minor": 0
}