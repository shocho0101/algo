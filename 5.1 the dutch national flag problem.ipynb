{
 "cells": [
  {
   "cell_type": "code",
   "execution_count": null,
   "metadata": {
    "collapsed": true
   },
   "outputs": [],
   "source": [
    "def dutch_flag_partition(index: int, array: list[int]) -> list[int]:\n",
    "    pivot = array[index]\n",
    "    small, equal, large = 0, 0 ,len(array)\n",
    "    while equal < large:\n",
    "        if array[equal] < pivot:\n",
    "            array[small], array[equal] = array[equal], array[small]\n",
    "            small += 1\n",
    "            equal += 1\n",
    "        elif array[equal] == pivot:\n",
    "            equal += 1\n",
    "        else:\n",
    "            large -= 1\n",
    "            array[equal], array[large] = array[large], array[equal]\n",
    "    return array"
   ]
  }
 ],
 "metadata": {
  "kernelspec": {
   "display_name": "Python 3",
   "language": "python",
   "name": "python3"
  },
  "language_info": {
   "codemirror_mode": {
    "name": "ipython",
    "version": 2
   },
   "file_extension": ".py",
   "mimetype": "text/x-python",
   "name": "python",
   "nbconvert_exporter": "python",
   "pygments_lexer": "ipython2",
   "version": "2.7.6"
  }
 },
 "nbformat": 4,
 "nbformat_minor": 0
}