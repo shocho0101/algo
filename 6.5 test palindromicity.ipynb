{
 "cells": [
  {
   "cell_type": "code",
   "execution_count": 2,
   "metadata": {
    "collapsed": true
   },
   "outputs": [
    {
     "data": {
      "text/plain": "True"
     },
     "execution_count": 2,
     "metadata": {},
     "output_type": "execute_result"
    }
   ],
   "source": [
    "def test_palindromicity(s: str) -> bool:\n",
    "    forward_index, backward_index = 0, len(s) - 1\n",
    "    while forward_index > backward_index:\n",
    "        if not s[forward_index].isalnum():\n",
    "            forward_index += 1\n",
    "        elif not s[backward_index].isalnum():\n",
    "            backward_index -= 1\n",
    "        elif s[forward_index].lower() == s[backward_index].lower():\n",
    "            forward_index += 1\n",
    "            backward_index -= 1\n",
    "        else:\n",
    "            return False\n",
    "    return True\n",
    "\n",
    "test_palindromicity(\"Ray a Ray\")"
   ]
  }
 ],
 "metadata": {
  "kernelspec": {
   "display_name": "Python 3",
   "language": "python",
   "name": "python3"
  },
  "language_info": {
   "codemirror_mode": {
    "name": "ipython",
    "version": 2
   },
   "file_extension": ".py",
   "mimetype": "text/x-python",
   "name": "python",
   "nbconvert_exporter": "python",
   "pygments_lexer": "ipython2",
   "version": "2.7.6"
  }
 },
 "nbformat": 4,
 "nbformat_minor": 0
}