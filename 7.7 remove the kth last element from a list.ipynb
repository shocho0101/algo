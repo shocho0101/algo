{
 "cells": [
  {
   "cell_type": "code",
   "execution_count": null,
   "metadata": {
    "collapsed": true
   },
   "outputs": [],
   "source": [
    "from linkedlist import ListNode\n",
    "\n",
    "def remove_kth_last(l: ListNode, k: int):\n",
    "    fast = slow = ListNode(0, l)\n",
    "    for _ in range(k):\n",
    "        fast = fast.next\n",
    "\n",
    "    while fast.next:\n",
    "        fast, slow = fast.next, slow.next\n",
    "\n",
    "    slow.next = slow.next.next\n"
   ]
  }
 ],
 "metadata": {
  "kernelspec": {
   "display_name": "Python 3",
   "language": "python",
   "name": "python3"
  },
  "language_info": {
   "codemirror_mode": {
    "name": "ipython",
    "version": 2
   },
   "file_extension": ".py",
   "mimetype": "text/x-python",
   "name": "python",
   "nbconvert_exporter": "python",
   "pygments_lexer": "ipython2",
   "version": "2.7.6"
  }
 },
 "nbformat": 4,
 "nbformat_minor": 0
}