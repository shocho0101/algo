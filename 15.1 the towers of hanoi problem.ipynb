{
 "cells": [
  {
   "cell_type": "code",
   "execution_count": 5,
   "metadata": {
    "collapsed": true
   },
   "outputs": [
    {
     "name": "stdout",
     "output_type": "stream",
     "text": [
      "[[], [23, 22, 21, 20, 19, 18, 17, 16, 15, 14, 13, 12, 11, 10, 9, 8, 7, 6, 5, 4, 3, 2, 1, 0], []]\n"
     ]
    }
   ],
   "source": [
    "def compute_tower_hanoi(num_rings):\n",
    "    pegs = [list(reversed(range(num_rings))), [], []]\n",
    "    def move(source_peg: int, destination_peg: int, temp_peg: int, count: int):\n",
    "         if count == 1:\n",
    "             pegs[destination_peg].append(pegs[source_peg].pop())\n",
    "         else:\n",
    "             move(source_peg, temp_peg, destination_peg, count-1)\n",
    "             move(source_peg, destination_peg, temp_peg, 1)\n",
    "             move(temp_peg, destination_peg, source_peg, count-1)\n",
    "    move(0, 1, 2, num_rings)\n",
    "    print(pegs)\n",
    "\n",
    "compute_tower_hanoi(24)"
   ]
  }
 ],
 "metadata": {
  "kernelspec": {
   "display_name": "Python 3",
   "language": "python",
   "name": "python3"
  },
  "language_info": {
   "codemirror_mode": {
    "name": "ipython",
    "version": 2
   },
   "file_extension": ".py",
   "mimetype": "text/x-python",
   "name": "python",
   "nbconvert_exporter": "python",
   "pygments_lexer": "ipython2",
   "version": "2.7.6"
  }
 },
 "nbformat": 4,
 "nbformat_minor": 0
}