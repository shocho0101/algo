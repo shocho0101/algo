{
 "cells": [
  {
   "cell_type": "code",
   "execution_count": null,
   "metadata": {
    "collapsed": true
   },
   "outputs": [],
   "source": [
    "def is_valid_sudoku(partial_assignment):\n",
    "    def is_valid_list(check_list: list[int]) -> bool:\n",
    "        filtered_list = list(filter(lambda x: x != 0, check_list))\n",
    "        return len(filtered_list) == len(set(filtered_list))\n",
    "\n",
    "    if not all(\n",
    "        is_valid_list(partial_assignment[i])\n",
    "        and is_valid_list([partial_assignment[j][i] for j in range(9)])\n",
    "        for i in range(9)):\n",
    "        return False\n",
    "\n",
    "    return all( is_valid_list([\n",
    "        partial_assignment[x][y]\n",
    "        for x in range(i*3, i*3+3)\n",
    "        for y in range(j*3, j*3+3)\n",
    "    ]) for i in range(3) for j in range(3))\n",
    "\n"
   ]
  }
 ],
 "metadata": {
  "kernelspec": {
   "display_name": "Python 3",
   "language": "python",
   "name": "python3"
  },
  "language_info": {
   "codemirror_mode": {
    "name": "ipython",
    "version": 2
   },
   "file_extension": ".py",
   "mimetype": "text/x-python",
   "name": "python",
   "nbconvert_exporter": "python",
   "pygments_lexer": "ipython2",
   "version": "2.7.6"
  }
 },
 "nbformat": 4,
 "nbformat_minor": 0
}