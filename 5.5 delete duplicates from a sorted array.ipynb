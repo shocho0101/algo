{
 "cells": [
  {
   "cell_type": "code",
   "execution_count": 2,
   "metadata": {
    "collapsed": true
   },
   "outputs": [
    {
     "data": {
      "text/plain": "5"
     },
     "execution_count": 2,
     "metadata": {},
     "output_type": "execute_result"
    }
   ],
   "source": [
    "def delete_duplicates(A):\n",
    "    write_index = 1\n",
    "    read_index = 1\n",
    "\n",
    "    while read_index < len(A):\n",
    "        A[write_index] = A[read_index]\n",
    "        read_index += 1\n",
    "        if A[write_index] != A[write_index - 1]:\n",
    "            write_index += 1\n",
    "    return  write_index\n",
    "\n",
    "delete_duplicates([2,2,5,5,7,11,11,13])\n"
   ]
  }
 ],
 "metadata": {
  "kernelspec": {
   "display_name": "Python 3",
   "language": "python",
   "name": "python3"
  },
  "language_info": {
   "codemirror_mode": {
    "name": "ipython",
    "version": 2
   },
   "file_extension": ".py",
   "mimetype": "text/x-python",
   "name": "python",
   "nbconvert_exporter": "python",
   "pygments_lexer": "ipython2",
   "version": "2.7.6"
  }
 },
 "nbformat": 4,
 "nbformat_minor": 0
}