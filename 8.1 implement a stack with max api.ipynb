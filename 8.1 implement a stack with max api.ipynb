{
 "cells": [
  {
   "cell_type": "code",
   "execution_count": null,
   "metadata": {
    "collapsed": true
   },
   "outputs": [],
   "source": [
    "class Stack:\n",
    "    def __init__(self):\n",
    "        self._stack = []\n",
    "        self._max_stack = []\n",
    "\n",
    "    def push(self, x):\n",
    "        self._stack.append(x)\n",
    "        if self._max_stack[-1] <= x:\n",
    "            self._max_stack.append(x)\n",
    "\n",
    "    def pop(self):\n",
    "        if self._max_stack[-1] == self._stack[-1]:\n",
    "            self._max_stack.pop()\n",
    "        return self._stack.pop()\n",
    "\n",
    "    @property\n",
    "    def max(self):\n",
    "        return self._max_stack[-1]"
   ]
  }
 ],
 "metadata": {
  "kernelspec": {
   "display_name": "Python 3",
   "language": "python",
   "name": "python3"
  },
  "language_info": {
   "codemirror_mode": {
    "name": "ipython",
    "version": 2
   },
   "file_extension": ".py",
   "mimetype": "text/x-python",
   "name": "python",
   "nbconvert_exporter": "python",
   "pygments_lexer": "ipython2",
   "version": "2.7.6"
  }
 },
 "nbformat": 4,
 "nbformat_minor": 0
}