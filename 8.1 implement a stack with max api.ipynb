{
 "cells": [
  {
   "cell_type": "code",
   "execution_count": null,
   "metadata": {
    "collapsed": true
   },
   "outputs": [],
   "source": [
    "class Stack:\n",
    "    def __init__(self):\n",
    "        self.max_list = []\n",
    "        self.stack_list = []\n",
    "\n",
    "    def push(self, item):\n",
    "        if len(self.max_list) == 0:\n",
    "            self.max_list.append(item)\n",
    "        elif self.max_list[-1] <= item:\n",
    "            self.max_list.append(item)\n",
    "        return self.stack_list.append(item)\n",
    "\n",
    "    def pop(self):\n",
    "        poped_item = self.stack_list.pop()\n",
    "        if poped_item == self.max_list[-1]:\n",
    "            self.max_list.pop()\n",
    "        return poped_item\n",
    "\n",
    "    def max(self):\n",
    "        \n",
    "        return self.max_list[-1]\n"
   ]
  }
 ],
 "metadata": {
  "kernelspec": {
   "display_name": "Python 3",
   "language": "python",
   "name": "python3"
  },
  "language_info": {
   "codemirror_mode": {
    "name": "ipython",
    "version": 2
   },
   "file_extension": ".py",
   "mimetype": "text/x-python",
   "name": "python",
   "nbconvert_exporter": "python",
   "pygments_lexer": "ipython2",
   "version": "2.7.6"
  }
 },
 "nbformat": 4,
 "nbformat_minor": 0
}