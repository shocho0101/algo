{
 "cells": [
  {
   "cell_type": "code",
   "execution_count": 2,
   "metadata": {
    "collapsed": true
   },
   "outputs": [],
   "source": [
    "from binarytree import BinaryTreeNode\n",
    "\n",
    "def reconstruct_tree(inorder: str, preorder: str):\n",
    "    if not len(inorder):\n",
    "        return None\n",
    "\n",
    "    head_data = preorder[0]\n",
    "    head = BinaryTreeNode(head_data)\n",
    "\n",
    "    left_node_count = inorder.index(head_data)\n",
    "    left_inorder = inorder[:left_node_count]\n",
    "    left_preorder = preorder[1:left_node_count+1]\n",
    "    head.left = reconstruct_tree(left_inorder, left_preorder)\n",
    "\n",
    "    right_inorder = inorder[left_node_count+1:]\n",
    "    right_preorder = preorder[left_node_count+1:]\n",
    "    head.right = reconstruct_tree(right_inorder, right_preorder)\n",
    "\n",
    "    return head\n",
    "\n",
    "result = reconstruct_tree(\"FBAEHCDIG\", \"HBFEACDGII\")"
   ]
  },
  {
   "cell_type": "code",
   "execution_count": 3,
   "outputs": [
    {
     "data": {
      "text/plain": "'H'"
     },
     "execution_count": 3,
     "metadata": {},
     "output_type": "execute_result"
    }
   ],
   "source": [
    "result.data"
   ],
   "metadata": {
    "collapsed": false,
    "pycharm": {
     "name": "#%%\n"
    }
   }
  },
  {
   "cell_type": "code",
   "execution_count": 4,
   "outputs": [
    {
     "data": {
      "text/plain": "'B'"
     },
     "execution_count": 4,
     "metadata": {},
     "output_type": "execute_result"
    }
   ],
   "source": [
    "result.left.data"
   ],
   "metadata": {
    "collapsed": false,
    "pycharm": {
     "name": "#%%\n"
    }
   }
  },
  {
   "cell_type": "code",
   "execution_count": 11,
   "outputs": [
    {
     "data": {
      "text/plain": "'C'"
     },
     "execution_count": 11,
     "metadata": {},
     "output_type": "execute_result"
    }
   ],
   "source": [
    "result.right.data"
   ],
   "metadata": {
    "collapsed": false,
    "pycharm": {
     "name": "#%%\n"
    }
   }
  },
  {
   "cell_type": "code",
   "execution_count": null,
   "outputs": [],
   "source": [],
   "metadata": {
    "collapsed": false,
    "pycharm": {
     "name": "#%%\n"
    }
   }
  }
 ],
 "metadata": {
  "kernelspec": {
   "display_name": "Python 3",
   "language": "python",
   "name": "python3"
  },
  "language_info": {
   "codemirror_mode": {
    "name": "ipython",
    "version": 2
   },
   "file_extension": ".py",
   "mimetype": "text/x-python",
   "name": "python",
   "nbconvert_exporter": "python",
   "pygments_lexer": "ipython2",
   "version": "2.7.6"
  }
 },
 "nbformat": 4,
 "nbformat_minor": 0
}