{
 "cells": [
  {
   "cell_type": "code",
   "execution_count": null,
   "metadata": {
    "collapsed": true
   },
   "outputs": [],
   "source": [
    "def find_nearest_distance(paragraph):\n",
    "    nearest_distance = float(\"inf\")\n",
    "    word_table = {}\n",
    "    for index, word in enumerate(paragraph):\n",
    "        if word in word_table:\n",
    "            previous_index = word_table[word]\n",
    "            nearest_distance = min(nearest_distance, index - previous_index)\n",
    "        word_table[word] = index\n",
    "\n",
    "    return nearest_distance if nearest_distance != float(\"inf\") else -1"
   ]
  }
 ],
 "metadata": {
  "kernelspec": {
   "display_name": "Python 3",
   "language": "python",
   "name": "python3"
  },
  "language_info": {
   "codemirror_mode": {
    "name": "ipython",
    "version": 2
   },
   "file_extension": ".py",
   "mimetype": "text/x-python",
   "name": "python",
   "nbconvert_exporter": "python",
   "pygments_lexer": "ipython2",
   "version": "2.7.6"
  }
 },
 "nbformat": 4,
 "nbformat_minor": 0
}