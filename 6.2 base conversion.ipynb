{
 "cells": [
  {
   "cell_type": "code",
   "execution_count": 9,
   "metadata": {
    "collapsed": true
   },
   "outputs": [
    {
     "data": {
      "text/plain": "'1A7'"
     },
     "execution_count": 9,
     "metadata": {},
     "output_type": "execute_result"
    }
   ],
   "source": [
    "import functools\n",
    "\n",
    "def convert_base(num_as_string, b1, b2):\n",
    "    digits_strings = \"0123456789ABCDEF\"\n",
    "    is_negative = num_as_string[0] == \"-\"\n",
    "\n",
    "    num = functools.reduce(lambda result, digit: result * b1 + digits_strings.index(digit),\n",
    "                           num_as_string[is_negative:],\n",
    "                           0)\n",
    "    converted_array = []\n",
    "    while num:\n",
    "        converted_array.append(digits_strings[num % b2])\n",
    "        num //= b2\n",
    "    return (\"-\" if is_negative else \"\") + \"\".join(reversed(converted_array))\n",
    "\n",
    "convert_base(\"615\", 7, 13)"
   ]
  }
 ],
 "metadata": {
  "kernelspec": {
   "display_name": "Python 3",
   "language": "python",
   "name": "python3"
  },
  "language_info": {
   "codemirror_mode": {
    "name": "ipython",
    "version": 2
   },
   "file_extension": ".py",
   "mimetype": "text/x-python",
   "name": "python",
   "nbconvert_exporter": "python",
   "pygments_lexer": "ipython2",
   "version": "2.7.6"
  }
 },
 "nbformat": 4,
 "nbformat_minor": 0
}