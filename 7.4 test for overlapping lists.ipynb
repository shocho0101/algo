{
 "cells": [
  {
   "cell_type": "code",
   "execution_count": 6,
   "metadata": {
    "collapsed": true
   },
   "outputs": [
    {
     "name": "stdout",
     "output_type": "stream",
     "text": [
      "3\n"
     ]
    }
   ],
   "source": [
    "from linkedlist import ListNode\n",
    "\n",
    "def overlapping_no_cycle_lists(l1: ListNode, l2: ListNode):\n",
    "    def last_node(l: ListNode):\n",
    "        list_count = 1\n",
    "        while l.next:\n",
    "            l = l.next\n",
    "            list_count += 1\n",
    "        return l, list_count\n",
    "\n",
    "    last_node_l1, list_count_l1 = last_node(l1)\n",
    "    last_node_l2, list_count_l2 = last_node(l2)\n",
    "\n",
    "    if last_node_l1 is last_node_l2:\n",
    "        if list_count_l1 > list_count_l2:\n",
    "            long = l1\n",
    "            short = l2\n",
    "        else:\n",
    "            long = l2\n",
    "            short = l1\n",
    "        for _ in range(abs(list_count_l2 - list_count_l1)):\n",
    "            long = long.next\n",
    "\n",
    "        while long is not short:\n",
    "            long = long.next\n",
    "            short = short.next\n",
    "\n",
    "        return long\n",
    "    else:\n",
    "        return None\n",
    "\n",
    "\n",
    "a = ListNode(1)\n",
    "b = ListNode(2)\n",
    "c = ListNode(3)\n",
    "d = ListNode(4)\n",
    "e = ListNode(5)\n",
    "f = ListNode(6)\n",
    "\n",
    "a.next = b\n",
    "b.next = c\n",
    "c.next = d\n",
    "d.next = e\n",
    "e.next = f\n",
    "f.next = None\n",
    "\n",
    "print(overlapping_no_cycle_lists(a, c).data)"
   ]
  }
 ],
 "metadata": {
  "kernelspec": {
   "display_name": "Python 3",
   "language": "python",
   "name": "python3"
  },
  "language_info": {
   "codemirror_mode": {
    "name": "ipython",
    "version": 2
   },
   "file_extension": ".py",
   "mimetype": "text/x-python",
   "name": "python",
   "nbconvert_exporter": "python",
   "pygments_lexer": "ipython2",
   "version": "2.7.6"
  }
 },
 "nbformat": 4,
 "nbformat_minor": 0
}