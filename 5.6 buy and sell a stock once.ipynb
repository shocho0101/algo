{
 "cells": [
  {
   "cell_type": "code",
   "execution_count": null,
   "metadata": {
    "collapsed": true
   },
   "outputs": [],
   "source": [
    "def buy_and_sell_stock_once(prices: list[int]) -> int:\n",
    "    min_price_so_far, max_profit = float(\"inf\"), 0\n",
    "    for price in prices:\n",
    "        max_profit = max(max_profit, price - min_price_so_far)\n",
    "        min_price_so_far = min(min_price_so_far, price)\n",
    "    return max_profit"
   ]
  }
 ],
 "metadata": {
  "kernelspec": {
   "display_name": "Python 3",
   "language": "python",
   "name": "python3"
  },
  "language_info": {
   "codemirror_mode": {
    "name": "ipython",
    "version": 2
   },
   "file_extension": ".py",
   "mimetype": "text/x-python",
   "name": "python",
   "nbconvert_exporter": "python",
   "pygments_lexer": "ipython2",
   "version": "2.7.6"
  }
 },
 "nbformat": 4,
 "nbformat_minor": 0
}