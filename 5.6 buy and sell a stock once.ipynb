{
 "cells": [
  {
   "cell_type": "code",
   "execution_count": 1,
   "metadata": {
    "collapsed": true
   },
   "outputs": [],
   "source": [
    "def buy_and_sell_stock_once(prices):\n",
    "    buy_price, sell_price = 0, 0\n",
    "    buy_price_candidate = prices[0]\n",
    "    for i, price in enumerate(prices):\n",
    "        buy_price_candidate = min(buy_price_candidate, price)\n",
    "        if price - buy_price_candidate > sell_price - buy_price:\n",
    "            buy_price, sell_price = buy_price_candidate, price\n",
    "    return sell_price - buy_price"
   ]
  },
  {
   "cell_type": "code",
   "execution_count": 2,
   "outputs": [
    {
     "data": {
      "text/plain": "30"
     },
     "execution_count": 2,
     "metadata": {},
     "output_type": "execute_result"
    }
   ],
   "source": [
    "buy_and_sell_stock_once([310,315,275,295,260,270,290,230,255,250])\n",
    "\n",
    "\n",
    "\n"
   ],
   "metadata": {
    "collapsed": false,
    "pycharm": {
     "name": "#%%\n"
    }
   }
  }
 ],
 "metadata": {
  "kernelspec": {
   "display_name": "Python 3",
   "language": "python",
   "name": "python3"
  },
  "language_info": {
   "codemirror_mode": {
    "name": "ipython",
    "version": 2
   },
   "file_extension": ".py",
   "mimetype": "text/x-python",
   "name": "python",
   "nbconvert_exporter": "python",
   "pygments_lexer": "ipython2",
   "version": "2.7.6"
  }
 },
 "nbformat": 4,
 "nbformat_minor": 0
}