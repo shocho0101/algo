{
 "cells": [
  {
   "cell_type": "code",
   "execution_count": null,
   "metadata": {
    "collapsed": true
   },
   "outputs": [],
   "source": [
    "def bsearch(key: int, a: [int]):\n",
    "    b, u = 0, len(a) - 1\n",
    "    while b <= u:\n",
    "        m = b + (u - b) // 2\n",
    "        if a[m] < key:\n",
    "            b = m + 1\n",
    "        elif a[m] == key:\n",
    "            return m\n",
    "        else:\n",
    "            u = m - 1\n",
    "    return -1"
   ]
  }
 ],
 "metadata": {
  "kernelspec": {
   "display_name": "Python 3",
   "language": "python",
   "name": "python3"
  },
  "language_info": {
   "codemirror_mode": {
    "name": "ipython",
    "version": 2
   },
   "file_extension": ".py",
   "mimetype": "text/x-python",
   "name": "python",
   "nbconvert_exporter": "python",
   "pygments_lexer": "ipython2",
   "version": "2.7.6"
  }
 },
 "nbformat": 4,
 "nbformat_minor": 0
}