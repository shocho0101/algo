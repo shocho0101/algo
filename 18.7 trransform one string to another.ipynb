{
 "cells": [
  {
   "cell_type": "code",
   "execution_count": 2,
   "metadata": {
    "collapsed": true
   },
   "outputs": [
    {
     "data": {
      "text/plain": "4"
     },
     "execution_count": 2,
     "metadata": {},
     "output_type": "execute_result"
    }
   ],
   "source": [
    "from collections import defaultdict, deque\n",
    "\n",
    "def transform_string(D, s, t):\n",
    "    graph = defaultdict(set)\n",
    "\n",
    "    for i, str_1 in enumerate(D):\n",
    "        for str_2 in D[i+1:]:\n",
    "            if len(str_1) != len(str_2):\n",
    "                break\n",
    "            different_count = 0\n",
    "            for char_1, char_2 in zip(str_1, str_2):\n",
    "                different_count += char_1 == char_2\n",
    "            if different_count == 1:\n",
    "                graph[str_1].add(str_2)\n",
    "                graph[str_2].add(str_1)\n",
    "\n",
    "    queue = deque([(s, 0)])\n",
    "    visited = []\n",
    "\n",
    "    while queue:\n",
    "        current = queue.popleft()\n",
    "        if current[0] == t:\n",
    "            return current[1]\n",
    "        visited.append(current[0])\n",
    "        queue += [(x, current[1] + 1) for x in graph[current[0]] if not x in visited]\n",
    "\n",
    "    return -1\n",
    "\n",
    "transform_string([\"bat\", \"cot\", \"dog\", \"dag\", \"dot\", \"cat\"], \"cat\", \"dog\")"
   ]
  }
 ],
 "metadata": {
  "kernelspec": {
   "display_name": "Python 3",
   "language": "python",
   "name": "python3"
  },
  "language_info": {
   "codemirror_mode": {
    "name": "ipython",
    "version": 2
   },
   "file_extension": ".py",
   "mimetype": "text/x-python",
   "name": "python",
   "nbconvert_exporter": "python",
   "pygments_lexer": "ipython2",
   "version": "2.7.6"
  }
 },
 "nbformat": 4,
 "nbformat_minor": 0
}