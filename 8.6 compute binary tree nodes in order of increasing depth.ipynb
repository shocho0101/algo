{
 "cells": [
  {
   "cell_type": "code",
   "execution_count": 1,
   "metadata": {
    "collapsed": true
   },
   "outputs": [],
   "source": [
    "from queue import Queue\n",
    "from binarytree import BinaryTreeNode\n",
    "\n",
    "def binary_tree_depth_order(tree: BinaryTreeNode):\n",
    "    result = []\n",
    "    current_check_list = [tree]\n",
    "\n",
    "    while len(current_check_list):\n",
    "        result.append([node.data for node in current_check_list])\n",
    "        current_check_list = [\n",
    "            child\n",
    "            for node in current_check_list\n",
    "            for child in (node.left, node.right)\n",
    "            if child\n",
    "        ]\n",
    "\n",
    "    return result"
   ]
  }
 ],
 "metadata": {
  "kernelspec": {
   "display_name": "Python 3",
   "language": "python",
   "name": "python3"
  },
  "language_info": {
   "codemirror_mode": {
    "name": "ipython",
    "version": 2
   },
   "file_extension": ".py",
   "mimetype": "text/x-python",
   "name": "python",
   "nbconvert_exporter": "python",
   "pygments_lexer": "ipython2",
   "version": "2.7.6"
  }
 },
 "nbformat": 4,
 "nbformat_minor": 0
}