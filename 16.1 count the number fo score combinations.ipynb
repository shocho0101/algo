{
 "cells": [
  {
   "cell_type": "code",
   "execution_count": 5,
   "metadata": {
    "collapsed": true
   },
   "outputs": [
    {
     "name": "stdout",
     "output_type": "stream",
     "text": [
      "4\n"
     ]
    }
   ],
   "source": [
    "def count_combinations(final_score: int, individual_score_list: list[int]) -> int:\n",
    "    cache_table = [1] + [0] * final_score\n",
    "\n",
    "    for individual_score in individual_score_list:\n",
    "        for current_score in range(final_score - individual_score + 1):\n",
    "            cache_table[current_score + individual_score] += cache_table[current_score]\n",
    "\n",
    "    return cache_table[final_score]\n",
    "\n",
    "print(count_combinations(12, [2,3,7]))"
   ]
  }
 ],
 "metadata": {
  "kernelspec": {
   "display_name": "Python 3",
   "language": "python",
   "name": "python3"
  },
  "language_info": {
   "codemirror_mode": {
    "name": "ipython",
    "version": 2
   },
   "file_extension": ".py",
   "mimetype": "text/x-python",
   "name": "python",
   "nbconvert_exporter": "python",
   "pygments_lexer": "ipython2",
   "version": "2.7.6"
  }
 },
 "nbformat": 4,
 "nbformat_minor": 0
}