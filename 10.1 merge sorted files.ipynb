{
 "cells": [
  {
   "cell_type": "code",
   "execution_count": 6,
   "metadata": {
    "collapsed": true
   },
   "outputs": [
    {
     "data": {
      "text/plain": "[0, 1, 2, 3, 4, 5, 6, 7, 8, 9, 10, 13, 15, 69, 88]"
     },
     "execution_count": 6,
     "metadata": {},
     "output_type": "execute_result"
    }
   ],
   "source": [
    "import heapq\n",
    "\n",
    "def merge(lists: list[list[int]]) -> list[int]:\n",
    "    lists_heap = list(map(lambda iter_x: (next(iter_x), iter_x), [iter(x) for x in lists]))\n",
    "    heapq.heapify(lists_heap)\n",
    "    result = []\n",
    "\n",
    "    while lists_heap:\n",
    "        smallest_tuple = heapq.heappop(lists_heap)\n",
    "        result.append(smallest_tuple[0])\n",
    "        next_element = next(smallest_tuple[1], None)\n",
    "        if next_element is not None:\n",
    "            heapq.heappush(lists_heap, (next_element, smallest_tuple[1]))\n",
    "\n",
    "    return result\n",
    "\n",
    "merge([[1,2,3,4,5], [6,7], [8,9], [0], [13, 69], [10, 15, 88]])\n"
   ]
  }
 ],
 "metadata": {
  "kernelspec": {
   "display_name": "Python 3",
   "language": "python",
   "name": "python3"
  },
  "language_info": {
   "codemirror_mode": {
    "name": "ipython",
    "version": 2
   },
   "file_extension": ".py",
   "mimetype": "text/x-python",
   "name": "python",
   "nbconvert_exporter": "python",
   "pygments_lexer": "ipython2",
   "version": "2.7.6"
  }
 },
 "nbformat": 4,
 "nbformat_minor": 0
}