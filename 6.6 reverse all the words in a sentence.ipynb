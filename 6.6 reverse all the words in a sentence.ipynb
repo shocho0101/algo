{
 "cells": [
  {
   "cell_type": "code",
   "execution_count": 6,
   "metadata": {
    "collapsed": true
   },
   "outputs": [
    {
     "data": {
      "text/plain": "bytearray(b'world hello')"
     },
     "execution_count": 6,
     "metadata": {},
     "output_type": "execute_result"
    }
   ],
   "source": [
    "def reverse_words(s: bytearray):\n",
    "    s.reverse()\n",
    "    s.extend(b' ')\n",
    "    word_count = 0\n",
    "    for i in range(len(s)):\n",
    "        if s[i] == b' '[0]:\n",
    "            for j in range(word_count // 2):\n",
    "                s[i - word_count + j], s[i - 1 - j] = s[i - 1 - j], s[i - word_count + j]\n",
    "            word_count = 0\n",
    "        else:\n",
    "            word_count += 1\n",
    "    del s[-1]\n",
    "    return s\n",
    "\n",
    "reverse_words(bytearray(b'hello world'))"
   ]
  }
 ],
 "metadata": {
  "kernelspec": {
   "display_name": "Python 3",
   "language": "python",
   "name": "python3"
  },
  "language_info": {
   "codemirror_mode": {
    "name": "ipython",
    "version": 2
   },
   "file_extension": ".py",
   "mimetype": "text/x-python",
   "name": "python",
   "nbconvert_exporter": "python",
   "pygments_lexer": "ipython2",
   "version": "2.7.6"
  }
 },
 "nbformat": 4,
 "nbformat_minor": 0
}