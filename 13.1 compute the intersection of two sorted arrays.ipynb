{
 "cells": [
  {
   "cell_type": "code",
   "execution_count": 2,
   "metadata": {
    "collapsed": true,
    "pycharm": {
     "name": "#%%\n"
    }
   },
   "outputs": [
    {
     "data": {
      "text/plain": "[5, 6, 8]"
     },
     "execution_count": 2,
     "metadata": {},
     "output_type": "execute_result"
    }
   ],
   "source": [
    "def intersect_two_sorted_arrays(x: list[int], y: list[int]) -> list[int]:\n",
    "    x_iter, y_iter = iter(x), iter(y)\n",
    "    x_element, y_element = next(x_iter, None), next(y_iter, None)\n",
    "    result = []\n",
    "\n",
    "    while x_element and y_element:\n",
    "        if x_element < y_element:\n",
    "            x_element = next(x_iter, None)\n",
    "        elif x_element == y_element:\n",
    "            if not len(result) or result[-1] != x_element:\n",
    "                result.append(x_element)\n",
    "            x_element, y_element = next(x_iter, None), next(y_iter, None)\n",
    "        else:\n",
    "            y_element = next(y_iter, None)\n",
    "\n",
    "    return result\n",
    "\n",
    "\n",
    "intersect_two_sorted_arrays([2,3,3,5,5,6,7,7,8,12],[5,5,6,8 ,8,9,70,10])"
   ]
  }
 ],
 "metadata": {
  "kernelspec": {
   "display_name": "Python 3",
   "language": "python",
   "name": "python3"
  },
  "language_info": {
   "codemirror_mode": {
    "name": "ipython",
    "version": 2
   },
   "file_extension": ".py",
   "mimetype": "text/x-python",
   "name": "python",
   "nbconvert_exporter": "python",
   "pygments_lexer": "ipython2",
   "version": "2.7.6"
  }
 },
 "nbformat": 4,
 "nbformat_minor": 0
}