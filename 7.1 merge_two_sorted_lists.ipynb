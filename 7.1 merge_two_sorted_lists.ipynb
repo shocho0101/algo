{
 "cells": [
  {
   "cell_type": "code",
   "execution_count": null,
   "metadata": {
    "collapsed": true
   },
   "outputs": [],
   "source": [
    "from linkedlist import ListNode\n",
    "\n",
    "def merge_two_sorted_lists(l1: ListNode, l2: ListNode):\n",
    "    head = ListNode(-1, None)\n",
    "    last = head\n",
    "\n",
    "    while l1 and l2:\n",
    "        if l1.data > l2.data:\n",
    "            last.next = l1\n",
    "            l1 = l1.next\n",
    "        else:\n",
    "            last.next = l2\n",
    "            l2 = l2.next\n",
    "        last.next\n",
    "\n",
    "    last.next = l1 or l2\n",
    "\n",
    "    return head.next\n"
   ]
  }
 ],
 "metadata": {
  "kernelspec": {
   "display_name": "Python 3",
   "language": "python",
   "name": "python3"
  },
  "language_info": {
   "codemirror_mode": {
    "name": "ipython",
    "version": 2
   },
   "file_extension": ".py",
   "mimetype": "text/x-python",
   "name": "python",
   "nbconvert_exporter": "python",
   "pygments_lexer": "ipython2",
   "version": "2.7.6"
  }
 },
 "nbformat": 4,
 "nbformat_minor": 0
}