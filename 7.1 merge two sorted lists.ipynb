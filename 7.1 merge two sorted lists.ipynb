{
 "cells": [
  {
   "cell_type": "code",
   "execution_count": null,
   "metadata": {
    "collapsed": true
   },
   "outputs": [],
   "source": [
    "from linkedlist import ListNode\n",
    "\n",
    "def merge_two_sorted_list(L1: ListNode, L2: ListNode) -> ListNode:\n",
    "    dummy_head = tail = ListNode()\n",
    "\n",
    "    while L1 and L2:\n",
    "        if L1.data < L2.data:\n",
    "            tail.next = L1\n",
    "            L1 = L1.next\n",
    "        else:\n",
    "            tail.next = L2\n",
    "            L2 = L2.next\n",
    "        tail = tail.next\n",
    "\n",
    "    tail.next = L1 or L2\n",
    "\n",
    "    return dummy_head.next"
   ]
  }
 ],
 "metadata": {
  "kernelspec": {
   "display_name": "Python 3",
   "language": "python",
   "name": "python3"
  },
  "language_info": {
   "codemirror_mode": {
    "name": "ipython",
    "version": 2
   },
   "file_extension": ".py",
   "mimetype": "text/x-python",
   "name": "python",
   "nbconvert_exporter": "python",
   "pygments_lexer": "ipython2",
   "version": "2.7.6"
  }
 },
 "nbformat": 4,
 "nbformat_minor": 0
}