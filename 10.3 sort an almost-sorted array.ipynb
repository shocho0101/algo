{
 "cells": [
  {
   "cell_type": "code",
   "execution_count": 3,
   "metadata": {
    "collapsed": true
   },
   "outputs": [
    {
     "name": "stdout",
     "output_type": "stream",
     "text": [
      "[-1, 2, 3, 4, 5, 6, 8]\n"
     ]
    }
   ],
   "source": [
    "import heapq\n",
    "\n",
    "def sort_almost_sorted_array(array: list[int], k) -> list[int]:\n",
    "    min_heap = []\n",
    "    heapq.heapify(min_heap)\n",
    "    result = []\n",
    "    for element in array:\n",
    "        heapq.heappush(min_heap, element)\n",
    "        if len(min_heap) > k:\n",
    "            result.append(heapq.heappop(min_heap))\n",
    "    result.extend(heapq.nsmallest(k, min_heap))\n",
    "    return result\n",
    "\n",
    "print(sort_almost_sorted_array([3,-1,2,6,4,5,8], 2))"
   ]
  }
 ],
 "metadata": {
  "kernelspec": {
   "display_name": "Python 3",
   "language": "python",
   "name": "python3"
  },
  "language_info": {
   "codemirror_mode": {
    "name": "ipython",
    "version": 2
   },
   "file_extension": ".py",
   "mimetype": "text/x-python",
   "name": "python",
   "nbconvert_exporter": "python",
   "pygments_lexer": "ipython2",
   "version": "2.7.6"
  }
 },
 "nbformat": 4,
 "nbformat_minor": 0
}