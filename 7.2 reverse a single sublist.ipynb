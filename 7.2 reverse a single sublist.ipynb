{
 "cells": [
  {
   "cell_type": "code",
   "execution_count": null,
   "metadata": {
    "collapsed": true
   },
   "outputs": [],
   "source": [
    "from linkedlist import ListNode\n",
    "\n",
    "def reverse_sublist(l: ListNode, start: int, finish: int):\n",
    "    dummy_head = sublist_before_head = ListNode(0, l)\n",
    "    for _ in range(1, start):\n",
    "        sublist_before_head = sublist_before_head.next\n",
    "\n",
    "    sublist_iter = sublist_before_head.next\n",
    "    for _ in range(start, finish):\n",
    "        move_node = sublist_iter.next\n",
    "        sublist_before_head.next, sublist_iter.next, move_node.next = move_node, move_node.next, sublist_before_head.next\n",
    "\n",
    "    return dummy_head.next"
   ]
  }
 ],
 "metadata": {
  "kernelspec": {
   "display_name": "Python 3",
   "language": "python",
   "name": "python3"
  },
  "language_info": {
   "codemirror_mode": {
    "name": "ipython",
    "version": 2
   },
   "file_extension": ".py",
   "mimetype": "text/x-python",
   "name": "python",
   "nbconvert_exporter": "python",
   "pygments_lexer": "ipython2",
   "version": "2.7.6"
  }
 },
 "nbformat": 4,
 "nbformat_minor": 0
}