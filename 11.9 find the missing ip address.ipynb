{
 "cells": [
  {
   "cell_type": "code",
   "execution_count": null,
   "metadata": {
    "collapsed": true
   },
   "outputs": [],
   "source": [
    "def find_missing_ip(stream):\n",
    "    counter = [0] * (1 << 16)\n",
    "    for element in stream:\n",
    "        counter[element >> 16] += 1\n",
    "\n",
    "    bucket_capacity = 1 << 16\n",
    "    candidate = next(i for i, c in enumerate(counter) if c < bucket_capacity)\n",
    "\n",
    "    counter = [0] * (1 << 16)\n",
    "    for element in stream:\n",
    "        if candidate == (element >> 16):\n",
    "            counter[((1 << 16) - 1) & x] = 1\n",
    "\n",
    "    for i, v in enumerate(counter):\n",
    "        if v == 0:\n",
    "            return (counter << 16) | i"
   ]
  }
 ],
 "metadata": {
  "kernelspec": {
   "display_name": "Python 3",
   "language": "python",
   "name": "python3"
  },
  "language_info": {
   "codemirror_mode": {
    "name": "ipython",
    "version": 2
   },
   "file_extension": ".py",
   "mimetype": "text/x-python",
   "name": "python",
   "nbconvert_exporter": "python",
   "pygments_lexer": "ipython2",
   "version": "2.7.6"
  }
 },
 "nbformat": 4,
 "nbformat_minor": 0
}