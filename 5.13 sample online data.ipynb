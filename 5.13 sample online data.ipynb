{
 "cells": [
  {
   "cell_type": "code",
   "execution_count": null,
   "metadata": {
    "collapsed": true
   },
   "outputs": [],
   "source": [
    "import random\n",
    "\n",
    "def online_random_sample(data: list, k: int) -> list:\n",
    "    pick_count = max(k, len(data) - k)\n",
    "\n",
    "    for i in range(k):\n",
    "        random_number = random.randint(i, len(data) - 1)\n",
    "        data[i], data[random_number] = data[random_number], data[i]\n",
    "    return data[:k] if pick_count == k else data[k:]"
   ]
  }
 ],
 "metadata": {
  "kernelspec": {
   "display_name": "Python 3",
   "language": "python",
   "name": "python3"
  },
  "language_info": {
   "codemirror_mode": {
    "name": "ipython",
    "version": 2
   },
   "file_extension": ".py",
   "mimetype": "text/x-python",
   "name": "python",
   "nbconvert_exporter": "python",
   "pygments_lexer": "ipython2",
   "version": "2.7.6"
  }
 },
 "nbformat": 4,
 "nbformat_minor": 0
}