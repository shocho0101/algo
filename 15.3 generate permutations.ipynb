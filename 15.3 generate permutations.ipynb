{
 "cells": [
  {
   "cell_type": "code",
   "execution_count": null,
   "metadata": {
    "collapsed": true
   },
   "outputs": [],
   "source": [
    "def permutations(array):\n",
    "    result = []\n",
    "    def permutations_helper(index):\n",
    "        if index == len(array) - 1:\n",
    "            result.append(array.copy())\n",
    "            return\n",
    "\n",
    "        for j in range(index, len(array)):\n",
    "            array[index], array[j] = array[j], array[index]\n",
    "            permutations_helper(index+1)\n",
    "            array[index], array[j] = array[j], array[index]\n",
    "\n",
    "    permutations_helper(0)\n",
    "    return result\n"
   ]
  }
 ],
 "metadata": {
  "kernelspec": {
   "display_name": "Python 3",
   "language": "python",
   "name": "python3"
  },
  "language_info": {
   "codemirror_mode": {
    "name": "ipython",
    "version": 2
   },
   "file_extension": ".py",
   "mimetype": "text/x-python",
   "name": "python",
   "nbconvert_exporter": "python",
   "pygments_lexer": "ipython2",
   "version": "2.7.6"
  }
 },
 "nbformat": 4,
 "nbformat_minor": 0
}