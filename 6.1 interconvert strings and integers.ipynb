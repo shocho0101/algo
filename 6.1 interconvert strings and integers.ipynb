{
 "cells": [
  {
   "cell_type": "code",
   "execution_count": 1,
   "metadata": {
    "collapsed": true
   },
   "outputs": [
    {
     "data": {
      "text/plain": "123"
     },
     "execution_count": 1,
     "metadata": {},
     "output_type": "execute_result"
    }
   ],
   "source": [
    "import string\n",
    "\n",
    "def str_to_int(number_str: str) -> int:\n",
    "    result = 0\n",
    "    for character in number_str[number_str[0] == \"-\":]:\n",
    "        result *= 10\n",
    "        result += string.digits.index(character)\n",
    "    return result * (-1 if number_str[0] == \"-\" else 1)\n",
    "\n",
    "str_to_int(\"123\")"
   ]
  },
  {
   "cell_type": "code",
   "execution_count": 7,
   "outputs": [],
   "source": [
    "import functools\n",
    "\n",
    "def str_to_int_reduce(number_str: str) -> int:\n",
    "    return functools.reduce(\n",
    "        lambda current, character: current * 10 + string.digits.index(character),\n",
    "        number_str[number_str[0] == \"-\":],\n",
    "        0\n",
    "    ) * (-1 if number_str[0] == \"-\" else 1)\n",
    "\n",
    "def int_to_str(number: int) -> str:\n",
    "    result: list[str] = []\n",
    "    is_negative: bool = True if number < 0 else False\n",
    "    number = abs(number)\n",
    "    while number:\n",
    "        result.append(string.digits[number % 10])\n",
    "        number //= 10\n",
    "\n",
    "    return (\"-\" if is_negative else \"\") + \"\".join(reversed(result))"
   ],
   "metadata": {
    "collapsed": false,
    "pycharm": {
     "name": "#%%\n"
    }
   }
  },
  {
   "cell_type": "code",
   "execution_count": 9,
   "outputs": [
    {
     "data": {
      "text/plain": "-124"
     },
     "execution_count": 9,
     "metadata": {},
     "output_type": "execute_result"
    }
   ],
   "source": [
    "str_to_int_reduce(\"-124\")"
   ],
   "metadata": {
    "collapsed": false,
    "pycharm": {
     "name": "#%%\n"
    }
   }
  },
  {
   "cell_type": "code",
   "execution_count": 11,
   "outputs": [
    {
     "data": {
      "text/plain": "'-124'"
     },
     "execution_count": 11,
     "metadata": {},
     "output_type": "execute_result"
    }
   ],
   "source": [
    "int_to_str(-124)"
   ],
   "metadata": {
    "collapsed": false,
    "pycharm": {
     "name": "#%%\n"
    }
   }
  }
 ],
 "metadata": {
  "kernelspec": {
   "display_name": "Python 3",
   "language": "python",
   "name": "python3"
  },
  "language_info": {
   "codemirror_mode": {
    "name": "ipython",
    "version": 2
   },
   "file_extension": ".py",
   "mimetype": "text/x-python",
   "name": "python",
   "nbconvert_exporter": "python",
   "pygments_lexer": "ipython2",
   "version": "2.7.6"
  }
 },
 "nbformat": 4,
 "nbformat_minor": 0
}