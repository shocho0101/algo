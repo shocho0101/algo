{
 "cells": [
  {
   "cell_type": "code",
   "execution_count": 2,
   "metadata": {
    "collapsed": true
   },
   "outputs": [
    {
     "data": {
      "text/plain": "123456"
     },
     "execution_count": 2,
     "metadata": {},
     "output_type": "execute_result"
    }
   ],
   "source": [
    "def str_to_int(str_number: str) -> int:\n",
    "    int_dictionary = {\"0\": 0, \"1\": 1, \"2\": 2, \"3\": 3, \"4\": 4, \"5\": 5, \"6\": 6, \"7\": 7, \"8\": 8, \"9\": 9}\n",
    "    is_negative = False\n",
    "    result = 0\n",
    "    for c in str_number:\n",
    "        if c == \"-\":\n",
    "            is_negative = True\n",
    "        else:\n",
    "            result = result * 10 +int_dictionary[c]\n",
    "    if is_negative:\n",
    "        result *= -1\n",
    "    return result\n",
    "\n",
    "str_to_int(\"123456\")"
   ]
  },
  {
   "cell_type": "code",
   "execution_count": 3,
   "outputs": [
    {
     "data": {
      "text/plain": "'123'"
     },
     "execution_count": 3,
     "metadata": {},
     "output_type": "execute_result"
    }
   ],
   "source": [
    "def int_to_str(int_number: int) -> str:\n",
    "    str_list = \"0123456789\"\n",
    "    result_list = []\n",
    "\n",
    "    is_negative = int_number < 0\n",
    "    while int_number:\n",
    "        result_list.append(str_list[int_number % 10])\n",
    "        int_number //= 10\n",
    "    if is_negative:\n",
    "        result_list.append(\"-\")\n",
    "    return \"\".join(reversed(result_list))\n",
    "\n",
    "int_to_str(123)"
   ],
   "metadata": {
    "collapsed": false,
    "pycharm": {
     "name": "#%%\n"
    }
   }
  }
 ],
 "metadata": {
  "kernelspec": {
   "display_name": "Python 3",
   "language": "python",
   "name": "python3"
  },
  "language_info": {
   "codemirror_mode": {
    "name": "ipython",
    "version": 2
   },
   "file_extension": ".py",
   "mimetype": "text/x-python",
   "name": "python",
   "nbconvert_exporter": "python",
   "pygments_lexer": "ipython2",
   "version": "2.7.6"
  }
 },
 "nbformat": 4,
 "nbformat_minor": 0
}