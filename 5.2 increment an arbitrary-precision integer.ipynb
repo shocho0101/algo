{
 "cells": [
  {
   "cell_type": "code",
   "execution_count": 3,
   "metadata": {
    "collapsed": true
   },
   "outputs": [
    {
     "data": {
      "text/plain": "[1, 0, 0, 0]"
     },
     "execution_count": 3,
     "metadata": {},
     "output_type": "execute_result"
    }
   ],
   "source": [
    "def plus_one(A: [int]):\n",
    "    A[-1] += 1\n",
    "    index = len(A) - 1\n",
    "    while A[index] == 10:\n",
    "        A[index] = 0\n",
    "        A[index-1] += 1\n",
    "        if index == 1 and A[0] == 10:\n",
    "            A[0] = 1\n",
    "            A.append(0)\n",
    "        index -= 1"
   ]
  },
  {
   "cell_type": "code",
   "execution_count": 12,
   "outputs": [
    {
     "data": {
      "text/plain": "'1010'"
     },
     "execution_count": 12,
     "metadata": {},
     "output_type": "execute_result"
    }
   ],
   "source": [
    "def plus_bits_string(A, B):\n",
    "    if len(A) > len(B):\n",
    "        long_bits, short_bits = A, B\n",
    "    else:\n",
    "        long_bits, short_bits = B, A\n",
    "    short_bits = \"0\"*(len(long_bits)-len(short_bits)) + short_bits\n",
    "    for i in reversed(range(1, len(long_bits))):\n",
    "        long_bits = replace_string(long_bits, i, str(int(long_bits[i])+int(short_bits[i])))\n",
    "        if long_bits[i] == \"2\":\n",
    "            long_bits = replace_string(long_bits, i, \"0\")\n",
    "            long_bits = replace_string(long_bits, i-1, str(int(long_bits[i-1])+1))\n",
    "        elif long_bits[i] == \"3\":\n",
    "            long_bits = replace_string(long_bits, i, \"1\")\n",
    "            long_bits = replace_string(long_bits, i-1, str(int(long_bits[i-1])+1))\n",
    "    long_bits = replace_string(long_bits, 0, str(int(long_bits[0])+int(short_bits[0])))\n",
    "    if long_bits[0] == \"2\":\n",
    "        long_bits = replace_string(long_bits, 0, \"0\")\n",
    "        long_bits = \"1\" + long_bits\n",
    "    elif long_bits[0] == \"3\":\n",
    "        long_bits = replace_string(long_bits, 0, \"1\")\n",
    "        long_bits = \"1\" + long_bits\n",
    "    return long_bits\n",
    "\n",
    "def replace_string(text, index, new_character):\n",
    "    return  text[:index] + new_character + text[index+1:]\n",
    "\n",
    "\n",
    "plus_bits_string(\"11\", \"111\")\n"
   ],
   "metadata": {
    "collapsed": false,
    "pycharm": {
     "name": "#%%\n"
    }
   }
  }
 ],
 "metadata": {
  "kernelspec": {
   "display_name": "Python 3",
   "language": "python",
   "name": "python3"
  },
  "language_info": {
   "codemirror_mode": {
    "name": "ipython",
    "version": 2
   },
   "file_extension": ".py",
   "mimetype": "text/x-python",
   "name": "python",
   "nbconvert_exporter": "python",
   "pygments_lexer": "ipython2",
   "version": "2.7.6"
  }
 },
 "nbformat": 4,
 "nbformat_minor": 0
}