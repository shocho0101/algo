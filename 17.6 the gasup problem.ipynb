{
 "cells": [
  {
   "cell_type": "code",
   "execution_count": 1,
   "metadata": {
    "collapsed": true
   },
   "outputs": [
    {
     "data": {
      "text/plain": "3"
     },
     "execution_count": 1,
     "metadata": {},
     "output_type": "execute_result"
    }
   ],
   "source": [
    "def find_ample_city(gas_list, road_distance_list):\n",
    "    city_list = list(range(len(gas_list)))\n",
    "    current_city = 0\n",
    "    while len(city_list) > 1:\n",
    "        if gas_list[current_city] * 20 < road_distance_list[current_city]:\n",
    "            gas_list[current_city - 1] += gas_list[current_city]\n",
    "            road_distance_list[current_city - 1] += road_distance_list[current_city]\n",
    "            del gas_list[current_city]\n",
    "            del road_distance_list[current_city]\n",
    "            del city_list[current_city]\n",
    "        current_city = (current_city + 1) % len(city_list)\n",
    "    return city_list[0]\n",
    "\n",
    "find_ample_city([50, 20, 5, 30, 25, 10, 10], [900, 600, 200, 400, 600, 200, 100])"
   ]
  },
  {
   "cell_type": "code",
   "execution_count": 3,
   "outputs": [
    {
     "data": {
      "text/plain": "3"
     },
     "execution_count": 3,
     "metadata": {},
     "output_type": "execute_result"
    }
   ],
   "source": [
    "def find_ample_city_2(gas_list, road_distance_list):\n",
    "    min_city = 0\n",
    "    min_capacity = 0\n",
    "    current = 0\n",
    "\n",
    "    for index in range(len(gas_list)):\n",
    "        if current < min_capacity:\n",
    "            min_city = index\n",
    "            min_capacity = current\n",
    "        current = current + gas_list[index] - road_distance_list[index] / 20\n",
    "    return min_city\n",
    "\n",
    "find_ample_city_2([50, 20, 5, 30, 25, 10, 10], [900, 600, 200, 400, 600, 200, 100])"
   ],
   "metadata": {
    "collapsed": false,
    "pycharm": {
     "name": "#%%\n"
    }
   }
  }
 ],
 "metadata": {
  "kernelspec": {
   "display_name": "Python 3",
   "language": "python",
   "name": "python3"
  },
  "language_info": {
   "codemirror_mode": {
    "name": "ipython",
    "version": 2
   },
   "file_extension": ".py",
   "mimetype": "text/x-python",
   "name": "python",
   "nbconvert_exporter": "python",
   "pygments_lexer": "ipython2",
   "version": "2.7.6"
  }
 },
 "nbformat": 4,
 "nbformat_minor": 0
}