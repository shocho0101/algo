{
 "cells": [
  {
   "cell_type": "code",
   "execution_count": null,
   "metadata": {
    "collapsed": true
   },
   "outputs": [],
   "source": [
    "from math import floor, log\n",
    "\n",
    "def zero_one_random():\n",
    "    return 1\n",
    "\n",
    "def uniform_random(lower_bound, upper_bound):\n",
    "    value_range = upper_bound - lower_bound + 1\n",
    "    while True:\n",
    "        result, i = 0, 0\n",
    "        while (1 << i) < value_range:\n",
    "            result <<= 1\n",
    "            result += zero_one_random()\n",
    "            i += 1\n",
    "        if value_range > result:\n",
    "            break\n",
    "    return lower_bound + result\n"
   ]
  }
 ],
 "metadata": {
  "kernelspec": {
   "display_name": "Python 3",
   "language": "python",
   "name": "python3"
  },
  "language_info": {
   "codemirror_mode": {
    "name": "ipython",
    "version": 2
   },
   "file_extension": ".py",
   "mimetype": "text/x-python",
   "name": "python",
   "nbconvert_exporter": "python",
   "pygments_lexer": "ipython2",
   "version": "2.7.6"
  }
 },
 "nbformat": 4,
 "nbformat_minor": 0
}