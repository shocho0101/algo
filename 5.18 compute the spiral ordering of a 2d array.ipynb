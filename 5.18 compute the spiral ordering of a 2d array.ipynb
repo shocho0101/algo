{
 "cells": [
  {
   "cell_type": "code",
   "execution_count": 22,
   "metadata": {
    "collapsed": true
   },
   "outputs": [
    {
     "name": "stdout",
     "output_type": "stream",
     "text": [
      "2\n"
     ]
    },
    {
     "data": {
      "text/plain": "[1, 2, 3, 4, 4, 4, 4, 3, 2, 1, 1, 1, 2, 3, 3, 2]"
     },
     "execution_count": 22,
     "metadata": {},
     "output_type": "execute_result"
    }
   ],
   "source": [
    "def matrix_in_spiral_order(square_matrix):\n",
    "    round_count = len(square_matrix) // 2 + len(square_matrix) % 2\n",
    "    spiral_order = []\n",
    "    print(round_count)\n",
    "    for i in range(round_count):\n",
    "        row_count = len(square_matrix) - i * 2\n",
    "        if i > 0:\n",
    "            spiral_order += square_matrix[i][i:-i]\n",
    "        else:\n",
    "            spiral_order += square_matrix[i]\n",
    "        if row_count > 1:\n",
    "            for j in range(row_count - 2):\n",
    "                spiral_order.append(square_matrix[i+1+j][-(i+1)])\n",
    "            if i > 0:\n",
    "                spiral_order += reversed(square_matrix[i+row_count-1][i:-i])\n",
    "            else:\n",
    "                spiral_order += reversed(square_matrix[i+row_count-1])\n",
    "            for j in reversed(range(row_count - 2)):\n",
    "                spiral_order.append(square_matrix[i+1+j][i])\n",
    "    return  spiral_order\n",
    "\n",
    "square_matrix = [\n",
    "    [1, 2, 3, 4],\n",
    "    [1, 2, 3, 4],\n",
    "    [1, 2, 3, 4],\n",
    "    [1, 2, 3, 4],\n",
    "]\n",
    "\n",
    "matrix_in_spiral_order(square_matrix)\n"
   ]
  },
  {
   "cell_type": "code",
   "execution_count": 20,
   "outputs": [
    {
     "name": "stdout",
     "output_type": "stream",
     "text": [
      "[1, 2, 3, 4, 5, 6, 7]\n"
     ]
    }
   ],
   "source": [
    "array = [1,2,3,4,5,6,7]\n",
    "\n",
    "print(array[0:])"
   ],
   "metadata": {
    "collapsed": false,
    "pycharm": {
     "name": "#%%\n"
    }
   }
  },
  {
   "cell_type": "code",
   "execution_count": null,
   "outputs": [],
   "source": [
    "def matrix_in_spiral_order_2(square_matrix):\n",
    "    SHIFT = ((0, 1), (1, 0), (0, -1), (-1, 0))\n",
    "    direction = x = y = 0\n",
    "    spiral_ordering = []\n",
    "\n",
    "    for _ in range(len(square_matrix)**2):\n",
    "        spiral_ordering.append(square_matrix[x][y])\n",
    "        square_matrix[x][y] = 0\n",
    "        next_x, next_y = x + SHIFT[direction][0], y + SHIFT[direction][1]\n",
    "        if (next_x not in range(len(square_matrix))\n",
    "                or next_y not in range(len(square_matrix))\n",
    "                or square_matrix[next_x][next_y] == 0):\n",
    "            direction = (direction + 1) % 4\n",
    "            next_x, next_y = x + SHIFT[direction][0], y + SHIFT[direction][1]\n",
    "        x, y = next_x, next_y\n",
    "    return spiral_ordering\n"
   ],
   "metadata": {
    "collapsed": false,
    "pycharm": {
     "name": "#%%\n"
    }
   }
  }
 ],
 "metadata": {
  "kernelspec": {
   "display_name": "Python 3",
   "language": "python",
   "name": "python3"
  },
  "language_info": {
   "codemirror_mode": {
    "name": "ipython",
    "version": 2
   },
   "file_extension": ".py",
   "mimetype": "text/x-python",
   "name": "python",
   "nbconvert_exporter": "python",
   "pygments_lexer": "ipython2",
   "version": "2.7.6"
  }
 },
 "nbformat": 4,
 "nbformat_minor": 0
}