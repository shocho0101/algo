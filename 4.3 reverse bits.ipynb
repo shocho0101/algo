{
 "cells": [
  {
   "cell_type": "code",
   "execution_count": 4,
   "metadata": {
    "collapsed": true
   },
   "outputs": [
    {
     "data": {
      "text/plain": "'0b1110000000000000000000000000000000000000000000000000000000000000'"
     },
     "execution_count": 4,
     "metadata": {},
     "output_type": "execute_result"
    }
   ],
   "source": [
    "def swap_bits(x, i, j):\n",
    "    if (x >> i) & 1 != (x >> j) & 1:\n",
    "        bit_mask = (1 << i) | (1 << j)\n",
    "        x ^= bit_mask\n",
    "    return x\n",
    "\n",
    "def reverse_bits_brute_force_16(x):\n",
    "    output = x\n",
    "    for i in range(8):\n",
    "        output = swap_bits(output,i, 15 - i)\n",
    "    return output\n",
    "\n",
    "lookup = [reverse_bits_brute_force_16(i) for i in range(0xFFFF)]\n",
    "\n",
    "def reverse_bits_64(x):\n",
    "    mask_size = 16\n",
    "    bit_mask = 0xFFFF\n",
    "    return (lookup[x & bit_mask] << (mask_size * 3) |\n",
    "            lookup[(x >> mask_size) & bit_mask] << (mask_size * 2) |\n",
    "            lookup[(x >> mask_size * 2) & bit_mask] << mask_size |\n",
    "            lookup[x >> mask_size * 3])\n",
    "\n",
    "bin(reverse_bits_64(0b111))\n"
   ]
  }
 ],
 "metadata": {
  "kernelspec": {
   "display_name": "Python 3",
   "language": "python",
   "name": "python3"
  },
  "language_info": {
   "codemirror_mode": {
    "name": "ipython",
    "version": 2
   },
   "file_extension": ".py",
   "mimetype": "text/x-python",
   "name": "python",
   "nbconvert_exporter": "python",
   "pygments_lexer": "ipython2",
   "version": "2.7.6"
  }
 },
 "nbformat": 4,
 "nbformat_minor": 0
}