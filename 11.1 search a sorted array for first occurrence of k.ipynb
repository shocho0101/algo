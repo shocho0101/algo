{
 "cells": [
  {
   "cell_type": "code",
   "execution_count": 5,
   "metadata": {
    "collapsed": true
   },
   "outputs": [
    {
     "name": "stdout",
     "output_type": "stream",
     "text": [
      "3\n"
     ]
    }
   ],
   "source": [
    "def search_first_of_k(l: list[int], key: int) ->  int:\n",
    "    b, u = 0, len(l) - 1\n",
    "    while b <= u:\n",
    "        m = b + (u - b) // 2\n",
    "        if l[m] < key:\n",
    "            b = m + 1\n",
    "        elif l[m] == key:\n",
    "            if m > 0 and l[m - 1] == key:\n",
    "                u = m - 1\n",
    "            else:\n",
    "                return m\n",
    "        else:\n",
    "            u = m - 1\n",
    "    return -1\n",
    "\n",
    "print(search_first_of_k([-14, -10, 2, 108, 108, 243, 285, 285, 285, 401], 108))"
   ]
  }
 ],
 "metadata": {
  "kernelspec": {
   "display_name": "Python 3",
   "language": "python",
   "name": "python3"
  },
  "language_info": {
   "codemirror_mode": {
    "name": "ipython",
    "version": 2
   },
   "file_extension": ".py",
   "mimetype": "text/x-python",
   "name": "python",
   "nbconvert_exporter": "python",
   "pygments_lexer": "ipython2",
   "version": "2.7.6"
  }
 },
 "nbformat": 4,
 "nbformat_minor": 0
}