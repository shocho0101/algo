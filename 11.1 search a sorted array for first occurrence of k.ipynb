{
 "cells": [
  {
   "cell_type": "code",
   "execution_count": 7,
   "metadata": {
    "collapsed": true
   },
   "outputs": [
    {
     "name": "stdout",
     "output_type": "stream",
     "text": [
      "3\n"
     ]
    }
   ],
   "source": [
    "def search_first_of_k(l: list[int], key: int) ->  int:\n",
    "   b, u = 0, len(l) - 1\n",
    "   result = -1\n",
    "   while b <= u:\n",
    "       m = (b + u) // 2\n",
    "       if key < l[m]:\n",
    "           u = m - 1\n",
    "       elif key == l[m]:\n",
    "           result = m\n",
    "           u = m - 1\n",
    "       else:\n",
    "           b = m + 1\n",
    "   return result\n",
    "\n",
    "print(search_first_of_k([-14, -10, 2, 108, 108, 243, 285, 285, 285, 401], 108))"
   ]
  }
 ],
 "metadata": {
  "kernelspec": {
   "display_name": "Python 3",
   "language": "python",
   "name": "python3"
  },
  "language_info": {
   "codemirror_mode": {
    "name": "ipython",
    "version": 2
   },
   "file_extension": ".py",
   "mimetype": "text/x-python",
   "name": "python",
   "nbconvert_exporter": "python",
   "pygments_lexer": "ipython2",
   "version": "2.7.6"
  }
 },
 "nbformat": 4,
 "nbformat_minor": 0
}