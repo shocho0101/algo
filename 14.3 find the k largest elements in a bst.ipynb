{
 "cells": [
  {
   "cell_type": "code",
   "execution_count": null,
   "metadata": {
    "collapsed": true
   },
   "outputs": [],
   "source": [
    "def find_k_largest(tree, k):\n",
    "    result = []\n",
    "\n",
    "    def back_inorder(node):\n",
    "        if node is None:\n",
    "            return\n",
    "\n",
    "        back_inorder(node.right)\n",
    "        if len(result) != k:\n",
    "            result.append(node)\n",
    "            if len(result) != k:\n",
    "                back_inorder(node.left)\n",
    "    back_inorder(tree)\n",
    "    return result"
   ]
  }
 ],
 "metadata": {
  "kernelspec": {
   "display_name": "Python 3",
   "language": "python",
   "name": "python3"
  },
  "language_info": {
   "codemirror_mode": {
    "name": "ipython",
    "version": 2
   },
   "file_extension": ".py",
   "mimetype": "text/x-python",
   "name": "python",
   "nbconvert_exporter": "python",
   "pygments_lexer": "ipython2",
   "version": "2.7.6"
  }
 },
 "nbformat": 4,
 "nbformat_minor": 0
}