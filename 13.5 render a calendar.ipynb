{
 "cells": [
  {
   "cell_type": "code",
   "execution_count": null,
   "metadata": {
    "collapsed": true
   },
   "outputs": [],
   "source": [
    "from collections import namedtuple\n",
    "\n",
    "Event = namedtuple(\"Event\", \"start end\")\n",
    "Point = namedtuple(\"Point\", \"time is_end\")\n",
    "\n",
    "def find_max_event(events):\n",
    "    points = [Point(event.start, False) for event in events] + [Point(event.end, True) for event in events]\n",
    "    points.sort(lambda point: (point.time, point.is_end))\n",
    "\n",
    "    max_count = 0\n",
    "    count = 0\n",
    "    for point in points:\n",
    "        if point.is_end:\n",
    "            count -= 1\n",
    "        else:\n",
    "            count += 1\n",
    "            max_count = max(max_count, count)\n",
    "    return max_count"
   ]
  }
 ],
 "metadata": {
  "kernelspec": {
   "display_name": "Python 3",
   "language": "python",
   "name": "python3"
  },
  "language_info": {
   "codemirror_mode": {
    "name": "ipython",
    "version": 2
   },
   "file_extension": ".py",
   "mimetype": "text/x-python",
   "name": "python",
   "nbconvert_exporter": "python",
   "pygments_lexer": "ipython2",
   "version": "2.7.6"
  }
 },
 "nbformat": 4,
 "nbformat_minor": 0
}