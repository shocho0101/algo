{
 "cells": [
  {
   "cell_type": "code",
   "execution_count": 2,
   "metadata": {
    "collapsed": true
   },
   "outputs": [
    {
     "data": {
      "text/plain": "70"
     },
     "execution_count": 2,
     "metadata": {},
     "output_type": "execute_result"
    }
   ],
   "source": [
    "def count_ways(n, m):\n",
    "    table = [[0] * m for _ in range(n)]\n",
    "    for row in range(n):\n",
    "        for col in range(m):\n",
    "            if row == 0 or col == 0:\n",
    "                table[row][col] = 1\n",
    "            else:\n",
    "                table[row][col] = table[row-1][col] + table[row][col-1]\n",
    "    return table[n-1][m-1]\n",
    "\n",
    "count_ways(5,5)"
   ]
  }
 ],
 "metadata": {
  "kernelspec": {
   "display_name": "Python 3",
   "language": "python",
   "name": "python3"
  },
  "language_info": {
   "codemirror_mode": {
    "name": "ipython",
    "version": 2
   },
   "file_extension": ".py",
   "mimetype": "text/x-python",
   "name": "python",
   "nbconvert_exporter": "python",
   "pygments_lexer": "ipython2",
   "version": "2.7.6"
  }
 },
 "nbformat": 4,
 "nbformat_minor": 0
}