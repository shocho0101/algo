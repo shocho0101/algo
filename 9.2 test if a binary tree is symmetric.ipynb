{
 "cells": [
  {
   "cell_type": "code",
   "execution_count": null,
   "metadata": {
    "collapsed": true
   },
   "outputs": [],
   "source": [
    "from binarytree import BinaryTreeNode\n",
    "\n",
    "def is_symmetric(tree: BinaryTreeNode):\n",
    "    def node_is_symmetric(tree_1: BinaryTreeNode, tree_2: BinaryTreeNode) -> bool:\n",
    "        if not tree_1 or tree_2:\n",
    "            return True\n",
    "        elif tree_1 and tree_2:\n",
    "            return (tree_1.data == tree_2.data\n",
    "                    and node_is_symmetric(tree_1.left, tree_2.right)\n",
    "                    and node_is_symmetric(tree_1.right, tree_2.right))\n",
    "        else:\n",
    "            return False\n",
    "\n",
    "\n",
    "    return node_is_symmetric(tree.left, tree.right)"
   ]
  }
 ],
 "metadata": {
  "kernelspec": {
   "display_name": "Python 3",
   "language": "python",
   "name": "python3"
  },
  "language_info": {
   "codemirror_mode": {
    "name": "ipython",
    "version": 2
   },
   "file_extension": ".py",
   "mimetype": "text/x-python",
   "name": "python",
   "nbconvert_exporter": "python",
   "pygments_lexer": "ipython2",
   "version": "2.7.6"
  }
 },
 "nbformat": 4,
 "nbformat_minor": 0
}