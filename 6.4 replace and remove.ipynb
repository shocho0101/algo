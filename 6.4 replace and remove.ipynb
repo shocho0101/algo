{
 "cells": [
  {
   "cell_type": "code",
   "execution_count": 2,
   "metadata": {
    "collapsed": true
   },
   "outputs": [
    {
     "data": {
      "text/plain": "['d', 'd', 'c', 'd', 'd', 'd', 'd']"
     },
     "execution_count": 2,
     "metadata": {},
     "output_type": "execute_result"
    }
   ],
   "source": [
    "def replace_and_remove(size: int, s: list[str]):\n",
    "    write_index = 0\n",
    "\n",
    "    for read_index in range(size):\n",
    "        if s[read_index] != \"b\":\n",
    "            s[write_index] = s[read_index]\n",
    "            write_index += 1\n",
    "\n",
    "    a_count = s[:write_index].count(\"a\")\n",
    "    last_item_index = write_index - 1\n",
    "    write_index = last_item_index + a_count\n",
    "\n",
    "    for read_index in reversed(range(last_item_index + 1)):\n",
    "        if s[read_index] == \"a\":\n",
    "            s[write_index] = s[write_index - 1] = \"d\"\n",
    "            write_index -= 2\n",
    "        else:\n",
    "            s[write_index] = s[read_index]\n",
    "            write_index -= 1\n",
    "\n",
    "    return s\n",
    "\n",
    "replace_and_remove(4, [\"a\", \"c\", \"a\", \"a\", \"\", \"\", \"\"])"
   ]
  }
 ],
 "metadata": {
  "kernelspec": {
   "display_name": "Python 3",
   "language": "python",
   "name": "python3"
  },
  "language_info": {
   "codemirror_mode": {
    "name": "ipython",
    "version": 2
   },
   "file_extension": ".py",
   "mimetype": "text/x-python",
   "name": "python",
   "nbconvert_exporter": "python",
   "pygments_lexer": "ipython2",
   "version": "2.7.6"
  }
 },
 "nbformat": 4,
 "nbformat_minor": 0
}