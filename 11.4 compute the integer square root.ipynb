{
 "cells": [
  {
   "cell_type": "code",
   "execution_count": 6,
   "metadata": {
    "collapsed": true
   },
   "outputs": [
    {
     "data": {
      "text/plain": "13"
     },
     "execution_count": 6,
     "metadata": {},
     "output_type": "execute_result"
    }
   ],
   "source": [
    "def square_root(k: int) -> int:\n",
    "    b, u, result = 0, k, 1\n",
    "\n",
    "    while b <= u:\n",
    "        m = (b + u) // 2\n",
    "        if m**2 < k:\n",
    "            result = m\n",
    "            b = m + 1\n",
    "        elif m**2 == k:\n",
    "            return m\n",
    "        else:\n",
    "            u = m - 1\n",
    "\n",
    "    return result\n",
    "\n",
    "square_root(169)"
   ]
  }
 ],
 "metadata": {
  "kernelspec": {
   "display_name": "Python 3",
   "language": "python",
   "name": "python3"
  },
  "language_info": {
   "codemirror_mode": {
    "name": "ipython",
    "version": 2
   },
   "file_extension": ".py",
   "mimetype": "text/x-python",
   "name": "python",
   "nbconvert_exporter": "python",
   "pygments_lexer": "ipython2",
   "version": "2.7.6"
  }
 },
 "nbformat": 4,
 "nbformat_minor": 0
}