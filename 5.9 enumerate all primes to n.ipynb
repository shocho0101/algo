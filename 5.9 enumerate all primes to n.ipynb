{
 "cells": [
  {
   "cell_type": "code",
   "execution_count": 1,
   "metadata": {
    "collapsed": true
   },
   "outputs": [
    {
     "data": {
      "text/plain": "[2, 3, 5, 7, 11, 13, 17]"
     },
     "execution_count": 1,
     "metadata": {},
     "output_type": "execute_result"
    }
   ],
   "source": [
    "def find_all_primes(n: int) -> list[int]:\n",
    "    if n <= 1:\n",
    "        return []\n",
    "    result = []\n",
    "    prime_table = [True] * (n + 1)\n",
    "    prime_table[0] = prime_table[1] = False\n",
    "\n",
    "    for number, is_prime in enumerate(prime_table):\n",
    "        if is_prime:\n",
    "            result.append(number)\n",
    "            for i in range(number, n + 1, number):\n",
    "                prime_table[i] = False\n",
    "    return result\n",
    "\n",
    "find_all_primes(18)\n",
    "\n"
   ]
  }
 ],
 "metadata": {
  "kernelspec": {
   "display_name": "Python 3",
   "language": "python",
   "name": "python3"
  },
  "language_info": {
   "codemirror_mode": {
    "name": "ipython",
    "version": 2
   },
   "file_extension": ".py",
   "mimetype": "text/x-python",
   "name": "python",
   "nbconvert_exporter": "python",
   "pygments_lexer": "ipython2",
   "version": "2.7.6"
  }
 },
 "nbformat": 4,
 "nbformat_minor": 0
}