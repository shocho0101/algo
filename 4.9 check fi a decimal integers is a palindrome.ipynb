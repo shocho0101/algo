{
 "cells": [
  {
   "cell_type": "code",
   "execution_count": 19,
   "metadata": {
    "collapsed": true
   },
   "outputs": [
    {
     "data": {
      "text/plain": "True"
     },
     "execution_count": 19,
     "metadata": {},
     "output_type": "execute_result"
    }
   ],
   "source": [
    "from math import floor, log\n",
    "\n",
    "def is_palindrome(x):\n",
    "    if x <= 0:\n",
    "        return False\n",
    "\n",
    "    length = floor(log(x, 10)) + 1\n",
    "    for i in range(length // 2):\n",
    "        if x // 10**(length - 1) != x % 10:\n",
    "            return False\n",
    "        x %= 10**(length - 1)\n",
    "        x //= 10\n",
    "        length -= 2\n",
    "\n",
    "    return True\n",
    "\n",
    "is_palindrome(2147447412)"
   ]
  }
 ],
 "metadata": {
  "kernelspec": {
   "display_name": "Python 3",
   "language": "python",
   "name": "python3"
  },
  "language_info": {
   "codemirror_mode": {
    "name": "ipython",
    "version": 2
   },
   "file_extension": ".py",
   "mimetype": "text/x-python",
   "name": "python",
   "nbconvert_exporter": "python",
   "pygments_lexer": "ipython2",
   "version": "2.7.6"
  }
 },
 "nbformat": 4,
 "nbformat_minor": 0
}