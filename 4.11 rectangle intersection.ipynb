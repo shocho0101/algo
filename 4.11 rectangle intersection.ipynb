{
 "cells": [
  {
   "cell_type": "code",
   "execution_count": null,
   "metadata": {
    "collapsed": true
   },
   "outputs": [],
   "source": [
    "from typing import NamedTuple\n",
    "\n",
    "class Rectangle(NamedTuple):\n",
    "    x: float\n",
    "    y: float\n",
    "    width: float\n",
    "    height: float\n",
    "\n",
    "\n",
    "def intersect_rectangle(r1, r2):\n",
    "    if (max(r1.x, r2.x) > min(r1.x + r1.width, r2.x + r1.width) and\n",
    "        max(r1.y, r2.y) > min(r1.y + r1.height, r1.y + r1.height)):\n",
    "        return Rectangle(0,0,0,0)\n",
    "    return Rectangle(max(r1.x, r2.x),\n",
    "                     max(r1.y, r2.y),\n",
    "                     min(r1.x + r1.width, r2.x + r1.width) - max(r1.x, r2.x),\n",
    "                     min(r1.y + r1.height, r1.y + r1.height) - max(r1.y, r2.y))\n"
   ]
  }
 ],
 "metadata": {
  "kernelspec": {
   "display_name": "Python 3",
   "language": "python",
   "name": "python3"
  },
  "language_info": {
   "codemirror_mode": {
    "name": "ipython",
    "version": 2
   },
   "file_extension": ".py",
   "mimetype": "text/x-python",
   "name": "python",
   "nbconvert_exporter": "python",
   "pygments_lexer": "ipython2",
   "version": "2.7.6"
  }
 },
 "nbformat": 4,
 "nbformat_minor": 0
}