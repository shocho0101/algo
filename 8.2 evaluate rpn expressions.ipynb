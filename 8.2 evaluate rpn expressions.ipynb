{
 "cells": [
  {
   "cell_type": "code",
   "execution_count": 2,
   "metadata": {
    "collapsed": true
   },
   "outputs": [
    {
     "name": "stdout",
     "output_type": "stream",
     "text": [
      "-7\n"
     ]
    }
   ],
   "source": [
    "import string\n",
    "\n",
    "def evaluate(rpn: str):\n",
    "    result = []\n",
    "\n",
    "    for token in rpn.split(\",\"):\n",
    "        if token in string.digits:\n",
    "            result.append(int(token))\n",
    "        else:\n",
    "            second_number = result.pop()\n",
    "            first_number = result.pop()\n",
    "            if token == \"+\":\n",
    "                result.append(first_number + second_number)\n",
    "            elif token == \"-\":\n",
    "                result.append(first_number - second_number)\n",
    "            elif token == \"*\":\n",
    "                result.append(first_number * second_number)\n",
    "            elif token == \"/\":\n",
    "                result.append(first_number / second_number)\n",
    "    return result[0]\n",
    "\n",
    "\n",
    "print(evaluate(\"3,4,+,1,2,-,*\"))"
   ]
  }
 ],
 "metadata": {
  "kernelspec": {
   "display_name": "Python 3",
   "language": "python",
   "name": "python3"
  },
  "language_info": {
   "codemirror_mode": {
    "name": "ipython",
    "version": 2
   },
   "file_extension": ".py",
   "mimetype": "text/x-python",
   "name": "python",
   "nbconvert_exporter": "python",
   "pygments_lexer": "ipython2",
   "version": "2.7.6"
  }
 },
 "nbformat": 4,
 "nbformat_minor": 0
}