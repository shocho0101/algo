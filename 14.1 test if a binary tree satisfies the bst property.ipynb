{
 "cells": [
  {
   "cell_type": "code",
   "execution_count": null,
   "metadata": {
    "collapsed": true
   },
   "outputs": [],
   "source": [
    "from binarytree import BinaryTreeNode\n",
    "\n",
    "def check_bst(tree: BinaryTreeNode) -> bool:\n",
    "    previous = float(\"-inf\")\n",
    "\n",
    "    def check_node(tree: BinaryTreeNode) -> bool:\n",
    "        nonlocal previous\n",
    "        if not tree:\n",
    "            return True\n",
    "\n",
    "        if not check_node(tree.left):\n",
    "            return False\n",
    "\n",
    "        if previous > tree.data:\n",
    "            return False\n",
    "        previous = tree.data\n",
    "\n",
    "        return check_node(tree.right)\n",
    "\n",
    "    return check_node(tree)"
   ]
  }
 ],
 "metadata": {
  "kernelspec": {
   "display_name": "Python 3",
   "language": "python",
   "name": "python3"
  },
  "language_info": {
   "codemirror_mode": {
    "name": "ipython",
    "version": 2
   },
   "file_extension": ".py",
   "mimetype": "text/x-python",
   "name": "python",
   "nbconvert_exporter": "python",
   "pygments_lexer": "ipython2",
   "version": "2.7.6"
  }
 },
 "nbformat": 4,
 "nbformat_minor": 0
}